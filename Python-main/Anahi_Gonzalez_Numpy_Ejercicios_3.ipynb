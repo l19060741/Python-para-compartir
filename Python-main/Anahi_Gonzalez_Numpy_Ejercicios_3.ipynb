{
  "cells": [
    {
      "cell_type": "markdown",
      "metadata": {
        "id": "view-in-github",
        "colab_type": "text"
      },
      "source": [
        "<a href=\"https://colab.research.google.com/github/l19060741/Curso-Phyton/blob/main/Anahi_Gonzalez_Numpy_Ejercicios_3.ipynb\" target=\"_parent\"><img src=\"https://colab.research.google.com/assets/colab-badge.svg\" alt=\"Open In Colab\"/></a>"
      ]
    },
    {
      "cell_type": "code",
      "execution_count": null,
      "metadata": {
        "id": "3c01eh7nImlu"
      },
      "outputs": [],
      "source": [
        "import numpy as np"
      ]
    },
    {
      "cell_type": "markdown",
      "metadata": {
        "id": "mCV1BPSDImly"
      },
      "source": [
        "Construye la siguiente matriz usando el método reshape(). Se cuidadoso de no ejecutar la celda para que no se borre"
      ]
    },
    {
      "cell_type": "code",
      "execution_count": null,
      "metadata": {
        "colab": {
          "base_uri": "https://localhost:8080/"
        },
        "id": "iYr9u0fhIml4",
        "outputId": "885edd67-051d-45a7-8876-22c449f80645"
      },
      "outputs": [
        {
          "output_type": "stream",
          "name": "stdout",
          "text": [
            "[[ 1  2  3  4  5]\n",
            " [ 6  7  8  9 10]\n",
            " [11 12 13 14 15]\n",
            " [16 17 18 19 20]\n",
            " [21 22 23 24 25]]\n"
          ]
        }
      ],
      "source": [
        "array = np.arange(1,26).reshape(5,5)\n",
        "print(array)"
      ]
    },
    {
      "cell_type": "code",
      "execution_count": null,
      "metadata": {
        "id": "4O8uEGEmIml4",
        "outputId": "495a5011-da63-4910-b918-6aab46b1cbc7"
      },
      "outputs": [
        {
          "data": {
            "text/plain": [
              "array([[ 1,  2,  3,  4,  5],\n",
              "       [ 6,  7,  8,  9, 10],\n",
              "       [11, 12, 13, 14, 15],\n",
              "       [16, 17, 18, 19, 20],\n",
              "       [21, 22, 23, 24, 25]])"
            ]
          },
          "execution_count": 4,
          "metadata": {},
          "output_type": "execute_result"
        }
      ],
      "source": []
    },
    {
      "cell_type": "markdown",
      "metadata": {
        "id": "1rQGu2j-Iml6"
      },
      "source": [
        "Una vez que repliques la matriz anterior, guardala en una variable, extrae una submatriz y replica lo que se muestra a continuación. Recuerda no ejectuar las celdas para que no se borren."
      ]
    },
    {
      "cell_type": "code",
      "execution_count": null,
      "metadata": {
        "colab": {
          "base_uri": "https://localhost:8080/"
        },
        "id": "m49jTYtIIml7",
        "outputId": "acc12de1-2849-4e34-9c84-aaf030d55240"
      },
      "outputs": [
        {
          "output_type": "execute_result",
          "data": {
            "text/plain": [
              "array([[12, 13, 14, 15, 17, 18, 19, 20]])"
            ]
          },
          "metadata": {},
          "execution_count": 12
        }
      ],
      "source": [
        "array2=array[2:4,1:].copy()\n",
        "array2.reshape(1,8)"
      ]
    },
    {
      "cell_type": "code",
      "execution_count": null,
      "metadata": {
        "id": "Q0OwRh4OIml8",
        "outputId": "8cd28939-4c10-4365-dc0b-230dd857b70f"
      },
      "outputs": [
        {
          "data": {
            "text/plain": [
              "array([[12, 13, 14, 15, 17, 18, 19, 20]])"
            ]
          },
          "execution_count": 6,
          "metadata": {},
          "output_type": "execute_result"
        }
      ],
      "source": []
    },
    {
      "cell_type": "code",
      "execution_count": null,
      "metadata": {
        "colab": {
          "base_uri": "https://localhost:8080/"
        },
        "id": "bEmip1zEIml8",
        "outputId": "b537d5ab-7c51-4d5b-976f-f4b6896c0110"
      },
      "outputs": [
        {
          "output_type": "execute_result",
          "data": {
            "text/plain": [
              "array([[22, 23, 24, 25],\n",
              "       [12, 13, 14, 15],\n",
              "       [17, 18, 19, 20]])"
            ]
          },
          "metadata": {},
          "execution_count": 19
        }
      ],
      "source": [
        "array2=array[4:,1:].copy()\n",
        "array3=array[2:4,1:]\n",
        "np.concatenate([array2,array3])"
      ]
    },
    {
      "cell_type": "code",
      "execution_count": null,
      "metadata": {
        "id": "98TzpvapIml9",
        "outputId": "527f28be-cc2a-41dc-83bf-66d9c0551c9c"
      },
      "outputs": [
        {
          "data": {
            "text/plain": [
              "array([[22, 23, 24, 25],\n",
              "       [12, 13, 14, 15],\n",
              "       [17, 18, 19, 20]])"
            ]
          },
          "execution_count": 11,
          "metadata": {},
          "output_type": "execute_result"
        }
      ],
      "source": []
    },
    {
      "cell_type": "code",
      "execution_count": null,
      "metadata": {
        "colab": {
          "base_uri": "https://localhost:8080/"
        },
        "id": "zv27y_FWIml9",
        "outputId": "85e5628b-cf2f-4fed-8511-132e2019ac6d"
      },
      "outputs": [
        {
          "output_type": "stream",
          "name": "stdout",
          "text": [
            "[[22 23 24 25 12 13 14 15 17 18 19 20]]\n"
          ]
        }
      ],
      "source": [
        "array2=array[4:,1:].copy()\n",
        "array3=array[2:4,1:]\n",
        "array4= np.concatenate([array2,array3]).reshape(1,12)\n",
        "print(array4)"
      ]
    },
    {
      "cell_type": "code",
      "execution_count": null,
      "metadata": {
        "id": "6_8vxCPAIml-",
        "outputId": "0dc38769-1052-497c-f461-c857a6712a52"
      },
      "outputs": [
        {
          "data": {
            "text/plain": [
              "array([[22, 23, 24, 25, 12, 13, 14, 15, 17, 18, 19, 20]])"
            ]
          },
          "execution_count": 13,
          "metadata": {},
          "output_type": "execute_result"
        }
      ],
      "source": []
    },
    {
      "cell_type": "code",
      "execution_count": null,
      "metadata": {
        "id": "-o8lCGBeIml-"
      },
      "outputs": [],
      "source": []
    }
  ],
  "metadata": {
    "kernelspec": {
      "display_name": "Python 3 (ipykernel)",
      "language": "python",
      "name": "python3"
    },
    "language_info": {
      "codemirror_mode": {
        "name": "ipython",
        "version": 3
      },
      "file_extension": ".py",
      "mimetype": "text/x-python",
      "name": "python",
      "nbconvert_exporter": "python",
      "pygments_lexer": "ipython3",
      "version": "3.8.5"
    },
    "colab": {
      "provenance": [],
      "include_colab_link": true
    }
  },
  "nbformat": 4,
  "nbformat_minor": 0
}