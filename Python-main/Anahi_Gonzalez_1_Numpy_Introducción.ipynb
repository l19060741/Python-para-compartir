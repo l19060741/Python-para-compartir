{
  "cells": [
    {
      "cell_type": "markdown",
      "metadata": {
        "id": "view-in-github",
        "colab_type": "text"
      },
      "source": [
        "<a href=\"https://colab.research.google.com/github/l19060741/Curso-Phyton/blob/main/Anahi_Gonzalez_1_Numpy_Introducci%C3%B3n.ipynb\" target=\"_parent\"><img src=\"https://colab.research.google.com/assets/colab-badge.svg\" alt=\"Open In Colab\"/></a>"
      ]
    },
    {
      "cell_type": "markdown",
      "metadata": {
        "id": "I86Kr1SMegjR"
      },
      "source": [
        "# Biblioteca Numpy"
      ]
    },
    {
      "cell_type": "markdown",
      "metadata": {
        "id": "MXBvGwoEegja"
      },
      "source": [
        "## Los datos en la Ciencia de datos"
      ]
    },
    {
      "cell_type": "markdown",
      "metadata": {
        "id": "WvwennURegjb"
      },
      "source": [
        "Los datos pueden provenir de diferentes fuentes y tener diferentes formatos, por ejemplo podemos tener colecciones de documentos, de imagenes, de sonidos, de mediciones o de casi cualquier cosa.\n",
        "\n",
        "A pesar de su heterogeneidad, podemos pensar en los datos como un arreglo de números"
      ]
    },
    {
      "cell_type": "markdown",
      "metadata": {
        "id": "gKdVpUUZegjc"
      },
      "source": [
        "Por ejemplo, podemos representar **imágenes digitales** como un arreglo bidimensional de números que representan la intensidad de cada pixel."
      ]
    },
    {
      "cell_type": "markdown",
      "metadata": {
        "id": "Ij-M0wzPegjd"
      },
      "source": [
        "Del mismo modo, podemos representar **segmentos de sonido** como arreglaos unidimensionales que representan la intensidad a través del tiempo."
      ]
    },
    {
      "cell_type": "markdown",
      "metadata": {
        "id": "l7R6aNrfegjd"
      },
      "source": [
        "Incluso, podemos convertir el **texto** a representaciones numéricas, por ejemplo vectores que indican la frecuencia de ciertas palabras."
      ]
    },
    {
      "cell_type": "markdown",
      "metadata": {
        "id": "uE28RqZ2egje"
      },
      "source": [
        "En general, no importa el tipo de dato que tengamos, el primer paso para poder analizarla es transformarla a arreglos de números."
      ]
    },
    {
      "cell_type": "markdown",
      "metadata": {
        "id": "8WrmGatCegjf"
      },
      "source": [
        "## Herramienta para manipular arreglos de datos"
      ]
    },
    {
      "cell_type": "markdown",
      "metadata": {
        "id": "Cu9IGStIegjg"
      },
      "source": [
        "Por este motivo, el almacenamiento y manipulación de arreglos numéricos es fundamental en el proceso de hacer ciencia de datos. \n",
        "\n",
        "Python tiene paquetes especializadas que nos ayudan a manipular tales datos: Numpy y Pandas."
      ]
    },
    {
      "cell_type": "markdown",
      "metadata": {
        "id": "CIWIxjhVegjh"
      },
      "source": [
        "Numpy viene de *Numerical Python* y provee una interface eficiente para almacenar y operar buffers densos de datos."
      ]
    },
    {
      "cell_type": "markdown",
      "metadata": {
        "id": "HQ6WTUPSegji"
      },
      "source": [
        "En cierta forma, Numpy es como el tipo `lista` de Python, sin embargo, brinda almacenamiento y operaciones más eficientes en datos más grandes. Los arreglos de Numpy forman parte del ecosistema base de las herramientas de ciencia de datos en Python."
      ]
    },
    {
      "cell_type": "markdown",
      "metadata": {
        "id": "OJLz-iRjegjj"
      },
      "source": [
        "## Comparación entre Numpy y lista"
      ]
    },
    {
      "cell_type": "markdown",
      "metadata": {
        "id": "jEr_ftBUegjm"
      },
      "source": [
        "Las listas en Python brindan flexibilidad, ya que una lista puede contener datos de diferente tipo (numéricos, cadenas,etc.), sin embargo, esta flexibilidad trae consigo un costo, ya que cada elemento de la lista es un objeto. Si toda la información va a ser de un mismo tipo, entonces una lista tendría información redundante y conviene almacenarla en un arreglo de tipo de dato fijo.\n",
        "\n",
        "Un arreglo de Numpy contiene solo un puntero a un bloque continuo de datos, mientras que la lista contiene un puntero a un bloque de punteros, en donde cada uno apunta a un objeto de Python (ver siguiente Figura).\n"
      ]
    },
    {
      "cell_type": "markdown",
      "metadata": {
        "id": "95hlIjIoegjn"
      },
      "source": [
        "![image](Imagenes/1.Numpy/1-NumpyvsList.png)"
      ]
    },
    {
      "cell_type": "markdown",
      "metadata": {
        "id": "4d2m5EN7egjp"
      },
      "source": [
        "## Instalar Numpy"
      ]
    },
    {
      "cell_type": "code",
      "execution_count": null,
      "metadata": {
        "id": "k67R3Y1Zegjq"
      },
      "outputs": [],
      "source": []
    },
    {
      "cell_type": "markdown",
      "metadata": {
        "id": "xIVNdf5gegjs"
      },
      "source": [
        "## Información sobre Numpy"
      ]
    },
    {
      "cell_type": "markdown",
      "metadata": {
        "id": "tB8FACTnegjt"
      },
      "source": [
        "Importar y conocer la versión con la que estamos trabajando"
      ]
    },
    {
      "cell_type": "code",
      "execution_count": null,
      "metadata": {
        "id": "kLPA2lSqegju",
        "colab": {
          "base_uri": "https://localhost:8080/",
          "height": 35
        },
        "outputId": "6282bf4e-5990-47c6-c5af-64275c36e9f2"
      },
      "outputs": [
        {
          "output_type": "execute_result",
          "data": {
            "text/plain": [
              "'1.21.6'"
            ],
            "application/vnd.google.colaboratory.intrinsic+json": {
              "type": "string"
            }
          },
          "metadata": {},
          "execution_count": 1
        }
      ],
      "source": [
        "#import numpy \n",
        "# Es práctica común nombrarla con el alias np\n",
        "import numpy as np \n",
        "np.__version__"
      ]
    },
    {
      "cell_type": "markdown",
      "metadata": {
        "id": "R9y3SlRgegjv"
      },
      "source": [
        "Pedir ayuda sobre numpy"
      ]
    },
    {
      "cell_type": "code",
      "execution_count": null,
      "metadata": {
        "id": "ZvD8ywTAegjv"
      },
      "outputs": [],
      "source": [
        "np?"
      ]
    },
    {
      "cell_type": "markdown",
      "metadata": {
        "id": "JY98aTI5egjw"
      },
      "source": [
        "## Primeros pasos con Numpy"
      ]
    },
    {
      "cell_type": "markdown",
      "metadata": {
        "id": "jp465kjYegjx"
      },
      "source": [
        "### Crear arreglos numpy con listas de Python"
      ]
    },
    {
      "cell_type": "code",
      "execution_count": null,
      "metadata": {
        "id": "ssQ9VhNHegjz",
        "colab": {
          "base_uri": "https://localhost:8080/"
        },
        "outputId": "aeeae76a-8e1c-43d1-812d-97ca1884383b"
      },
      "outputs": [
        {
          "output_type": "execute_result",
          "data": {
            "text/plain": [
              "array([1, 5, 3, 6, 2, 7, 4])"
            ]
          },
          "metadata": {},
          "execution_count": 3
        }
      ],
      "source": [
        "np.array([1,5,3,6,2,7,4])"
      ]
    },
    {
      "cell_type": "code",
      "execution_count": null,
      "metadata": {
        "id": "zklim20jegjz",
        "colab": {
          "base_uri": "https://localhost:8080/"
        },
        "outputId": "2149875c-44b4-4c69-a8dd-d1d2da6491f1"
      },
      "outputs": [
        {
          "output_type": "execute_result",
          "data": {
            "text/plain": [
              "array([1.  , 2.07, 3.  , 4.  , 5.  ])"
            ]
          },
          "metadata": {},
          "execution_count": 4
        }
      ],
      "source": [
        "\"\"\"Los arreglos deben tener el mismo tipo de dato, en caso contrario, \n",
        "   Numpy hará un casting si es posible (en este ejemplo se castean enteros a flotantes)\"\"\"\n",
        "np.array([1,2.07,3,4,5])"
      ]
    },
    {
      "cell_type": "code",
      "execution_count": null,
      "metadata": {
        "id": "my9_4PoWegj0",
        "colab": {
          "base_uri": "https://localhost:8080/"
        },
        "outputId": "82299063-bd9c-47e3-97b5-79a195675c60"
      },
      "outputs": [
        {
          "output_type": "execute_result",
          "data": {
            "text/plain": [
              "array([1., 5., 3., 6., 2., 7., 4.], dtype=float32)"
            ]
          },
          "metadata": {},
          "execution_count": 5
        }
      ],
      "source": [
        "#Podemos indicar explicitamente el tipo de dato que requerimos usando la palabra dtype\n",
        "np.array([1,5,3,6,2,7,4], dtype='float32')"
      ]
    },
    {
      "cell_type": "code",
      "execution_count": null,
      "metadata": {
        "id": "R_h1gE7negj0",
        "colab": {
          "base_uri": "https://localhost:8080/"
        },
        "outputId": "65723b4f-5fcf-4932-c41e-a73f87922df4"
      },
      "outputs": [
        {
          "output_type": "execute_result",
          "data": {
            "text/plain": [
              "array([[1, 2, 3],\n",
              "       [4, 5, 6],\n",
              "       [7, 8, 9]])"
            ]
          },
          "metadata": {},
          "execution_count": 6
        }
      ],
      "source": [
        "#Los arreglos pueden ser multidimensionales\"\n",
        "np.array([[1,2,3],[4,5,6],[7,8,9]])"
      ]
    },
    {
      "cell_type": "markdown",
      "metadata": {
        "id": "WWvF0LW-egj1"
      },
      "source": [
        "### Crear arreglos a partir de listas ya definidas"
      ]
    },
    {
      "cell_type": "code",
      "execution_count": null,
      "metadata": {
        "id": "UXwzOkhaegj2"
      },
      "outputs": [],
      "source": [
        "my_list = [1,2,4,2]"
      ]
    },
    {
      "cell_type": "code",
      "execution_count": null,
      "metadata": {
        "id": "bTev1KmWegj2",
        "colab": {
          "base_uri": "https://localhost:8080/"
        },
        "outputId": "ecd593db-f335-4493-8514-59346aadc4d5"
      },
      "outputs": [
        {
          "output_type": "execute_result",
          "data": {
            "text/plain": [
              "array([1, 2, 4, 2])"
            ]
          },
          "metadata": {},
          "execution_count": 8
        }
      ],
      "source": [
        "np.array(my_list)"
      ]
    },
    {
      "cell_type": "code",
      "execution_count": null,
      "metadata": {
        "id": "azg-tAVnegj3",
        "colab": {
          "base_uri": "https://localhost:8080/"
        },
        "outputId": "c1111e1f-cb15-4e39-bb25-3b3a7c652d7e"
      },
      "outputs": [
        {
          "output_type": "execute_result",
          "data": {
            "text/plain": [
              "array([[9, 8, 7],\n",
              "       [6, 5, 4],\n",
              "       [3, 2, 1]])"
            ]
          },
          "metadata": {},
          "execution_count": 9
        }
      ],
      "source": [
        "my_matrix=[[9,8,7],[6,5,4],[3,2,1]]\n",
        "np.array(my_matrix)"
      ]
    },
    {
      "cell_type": "markdown",
      "metadata": {
        "id": "AU0ULjLmegj3"
      },
      "source": [
        "## Crear arreglos con métodos Built-in"
      ]
    },
    {
      "cell_type": "markdown",
      "metadata": {
        "id": "sV6p_BIAegj3"
      },
      "source": [
        "Especialmene para arreglos grandes, es más eficiente crear arreglos desde cero usando rutinas ya construidas en la biblioteca Numpy."
      ]
    },
    {
      "cell_type": "markdown",
      "metadata": {
        "id": "XVj101GNegj4"
      },
      "source": [
        "### arange\n",
        "Regresa valores espaciados por un valor de paso \"step\" desde el inicio hasta el final indicado\n",
        "\n",
        "(inicio,final,step)"
      ]
    },
    {
      "cell_type": "code",
      "execution_count": null,
      "metadata": {
        "id": "5RhC-cL8egj5",
        "colab": {
          "base_uri": "https://localhost:8080/"
        },
        "outputId": "efcd800b-2c3a-4eb6-d35d-c6adeb4c6ca3"
      },
      "outputs": [
        {
          "output_type": "execute_result",
          "data": {
            "text/plain": [
              "array([0, 1, 2, 3, 4, 5, 6, 7, 8, 9])"
            ]
          },
          "metadata": {},
          "execution_count": 33
        }
      ],
      "source": [
        "np.arange(0,10)"
      ]
    },
    {
      "cell_type": "code",
      "execution_count": null,
      "metadata": {
        "id": "LZOn_12Legj7",
        "colab": {
          "base_uri": "https://localhost:8080/"
        },
        "outputId": "8cfebffd-77c7-4c9a-a6fa-810c6e9e07d5"
      },
      "outputs": [
        {
          "output_type": "execute_result",
          "data": {
            "text/plain": [
              "array([0, 3, 6, 9])"
            ]
          },
          "metadata": {},
          "execution_count": 34
        }
      ],
      "source": [
        "np.arange(0,10,3)"
      ]
    },
    {
      "cell_type": "code",
      "execution_count": null,
      "metadata": {
        "id": "XE20vaX4egj7",
        "colab": {
          "base_uri": "https://localhost:8080/"
        },
        "outputId": "154fdc18-c8da-4e8e-9e39-6a26b34eac2c"
      },
      "outputs": [
        {
          "output_type": "execute_result",
          "data": {
            "text/plain": [
              "array([-5, -3, -1,  1,  3])"
            ]
          },
          "metadata": {},
          "execution_count": 35
        }
      ],
      "source": [
        "np.arange(-5,5,2)"
      ]
    },
    {
      "cell_type": "markdown",
      "metadata": {
        "id": "riwoWfryegj-"
      },
      "source": [
        "### linspace\n",
        "Regresa una cantidad de valores espaciados (num) sobre un intervalo específico"
      ]
    },
    {
      "cell_type": "code",
      "execution_count": null,
      "metadata": {
        "id": "6ww8TTcTegj_",
        "colab": {
          "base_uri": "https://localhost:8080/"
        },
        "outputId": "541be910-9d3d-4899-d3f1-239d54d0eb81"
      },
      "outputs": [
        {
          "output_type": "execute_result",
          "data": {
            "text/plain": [
              "array([ 0.        ,  0.20408163,  0.40816327,  0.6122449 ,  0.81632653,\n",
              "        1.02040816,  1.2244898 ,  1.42857143,  1.63265306,  1.83673469,\n",
              "        2.04081633,  2.24489796,  2.44897959,  2.65306122,  2.85714286,\n",
              "        3.06122449,  3.26530612,  3.46938776,  3.67346939,  3.87755102,\n",
              "        4.08163265,  4.28571429,  4.48979592,  4.69387755,  4.89795918,\n",
              "        5.10204082,  5.30612245,  5.51020408,  5.71428571,  5.91836735,\n",
              "        6.12244898,  6.32653061,  6.53061224,  6.73469388,  6.93877551,\n",
              "        7.14285714,  7.34693878,  7.55102041,  7.75510204,  7.95918367,\n",
              "        8.16326531,  8.36734694,  8.57142857,  8.7755102 ,  8.97959184,\n",
              "        9.18367347,  9.3877551 ,  9.59183673,  9.79591837, 10.        ])"
            ]
          },
          "metadata": {},
          "execution_count": 13
        }
      ],
      "source": [
        "np.linspace(0,10)  #num = 50 (default)"
      ]
    },
    {
      "cell_type": "code",
      "execution_count": null,
      "metadata": {
        "id": "Lyp3UXVjegkA",
        "colab": {
          "base_uri": "https://localhost:8080/"
        },
        "outputId": "369ec441-1bd2-4462-fd52-e8fb17350fb9"
      },
      "outputs": [
        {
          "output_type": "execute_result",
          "data": {
            "text/plain": [
              "array([ 0.,  1.,  2.,  3.,  4.,  5.,  6.,  7.,  8.,  9., 10.])"
            ]
          },
          "metadata": {},
          "execution_count": 14
        }
      ],
      "source": [
        "np.linspace(0,10,11)"
      ]
    },
    {
      "cell_type": "code",
      "execution_count": null,
      "metadata": {
        "id": "DnxmMEb7egkA",
        "colab": {
          "base_uri": "https://localhost:8080/"
        },
        "outputId": "226919f3-78c3-464c-827a-cd716d9a88e0"
      },
      "outputs": [
        {
          "output_type": "execute_result",
          "data": {
            "text/plain": [
              "array([-5., -4., -3., -2., -1.,  0.,  1.,  2.,  3.,  4.,  5.])"
            ]
          },
          "metadata": {},
          "execution_count": 15
        }
      ],
      "source": [
        "np.linspace(-5,5,11)"
      ]
    },
    {
      "cell_type": "markdown",
      "metadata": {
        "id": "mCtAEqgOegkA"
      },
      "source": [
        "### Zeros\n",
        "Crea un arreglo lleno con ceros"
      ]
    },
    {
      "cell_type": "code",
      "execution_count": null,
      "metadata": {
        "id": "-bzu0rK8egkC",
        "colab": {
          "base_uri": "https://localhost:8080/"
        },
        "outputId": "078f8a72-adc3-41c8-a6fa-990f9a5fe728"
      },
      "outputs": [
        {
          "output_type": "execute_result",
          "data": {
            "text/plain": [
              "array([0., 0., 0., 0., 0., 0., 0., 0., 0., 0.])"
            ]
          },
          "metadata": {},
          "execution_count": 16
        }
      ],
      "source": [
        "np.zeros(10)"
      ]
    },
    {
      "cell_type": "code",
      "execution_count": null,
      "metadata": {
        "id": "0-uHm-mregkD",
        "colab": {
          "base_uri": "https://localhost:8080/"
        },
        "outputId": "ea21157b-bc6e-4cd6-e404-6be9af66e18c"
      },
      "outputs": [
        {
          "output_type": "execute_result",
          "data": {
            "text/plain": [
              "array([[0., 0., 0.],\n",
              "       [0., 0., 0.]])"
            ]
          },
          "metadata": {},
          "execution_count": 17
        }
      ],
      "source": [
        "np.zeros((2,3))"
      ]
    },
    {
      "cell_type": "code",
      "execution_count": null,
      "metadata": {
        "id": "BlQ6gn2CegkD",
        "colab": {
          "base_uri": "https://localhost:8080/"
        },
        "outputId": "2143ceec-eb6f-4488-a504-49d4c39f9909"
      },
      "outputs": [
        {
          "output_type": "execute_result",
          "data": {
            "text/plain": [
              "array([[0, 0, 0, 0],\n",
              "       [0, 0, 0, 0],\n",
              "       [0, 0, 0, 0]])"
            ]
          },
          "metadata": {},
          "execution_count": 18
        }
      ],
      "source": [
        "np.zeros((3,4),dtype=int)"
      ]
    },
    {
      "cell_type": "markdown",
      "metadata": {
        "id": "Zrpn_H63egkD"
      },
      "source": [
        "### Ones\n",
        "Crea un arreglo lleno con unos"
      ]
    },
    {
      "cell_type": "code",
      "execution_count": null,
      "metadata": {
        "id": "DQNLvoMLegkE",
        "colab": {
          "base_uri": "https://localhost:8080/"
        },
        "outputId": "dd9f289b-1997-47d6-ef49-ee39bbf7a592"
      },
      "outputs": [
        {
          "output_type": "execute_result",
          "data": {
            "text/plain": [
              "array([1., 1., 1., 1., 1.])"
            ]
          },
          "metadata": {},
          "execution_count": 19
        }
      ],
      "source": [
        "np.ones(5)"
      ]
    },
    {
      "cell_type": "code",
      "execution_count": null,
      "metadata": {
        "id": "MfM6LIQ8egkE",
        "colab": {
          "base_uri": "https://localhost:8080/"
        },
        "outputId": "730e2288-896e-4ca2-8116-d3e521f97110"
      },
      "outputs": [
        {
          "output_type": "execute_result",
          "data": {
            "text/plain": [
              "array([[1., 1., 1.],\n",
              "       [1., 1., 1.],\n",
              "       [1., 1., 1.]])"
            ]
          },
          "metadata": {},
          "execution_count": 20
        }
      ],
      "source": [
        "np.ones((3,3),dtype=float)"
      ]
    },
    {
      "cell_type": "markdown",
      "metadata": {
        "id": "RcNbg1k8egkL"
      },
      "source": [
        "### Full\n",
        "Regresa un arreglo lleno con el valor indicado"
      ]
    },
    {
      "cell_type": "code",
      "execution_count": null,
      "metadata": {
        "id": "ZJr8gMkvegkO",
        "colab": {
          "base_uri": "https://localhost:8080/"
        },
        "outputId": "a154551c-811a-4ed8-fa24-b0fa0a507f67"
      },
      "outputs": [
        {
          "output_type": "execute_result",
          "data": {
            "text/plain": [
              "array([[3.14159265, 3.14159265]])"
            ]
          },
          "metadata": {},
          "execution_count": 21
        }
      ],
      "source": [
        "import math\n",
        "np.full((1,2),math.pi)"
      ]
    },
    {
      "cell_type": "code",
      "execution_count": null,
      "metadata": {
        "id": "53GurPV0egkQ",
        "colab": {
          "base_uri": "https://localhost:8080/"
        },
        "outputId": "4e130234-da0d-43c5-e6e6-6ceb7c1ac6b3"
      },
      "outputs": [
        {
          "output_type": "execute_result",
          "data": {
            "text/plain": [
              "array([[7, 7, 7, 7, 7],\n",
              "       [7, 7, 7, 7, 7],\n",
              "       [7, 7, 7, 7, 7]])"
            ]
          },
          "metadata": {},
          "execution_count": 22
        }
      ],
      "source": [
        "np.full((3,5),7)"
      ]
    },
    {
      "cell_type": "markdown",
      "metadata": {
        "id": "o72G21e-egkQ"
      },
      "source": [
        "### eye\n",
        "Crea una matriz identidad del tamaño especificado"
      ]
    },
    {
      "cell_type": "code",
      "execution_count": null,
      "metadata": {
        "id": "f59vmgQBegkR",
        "colab": {
          "base_uri": "https://localhost:8080/"
        },
        "outputId": "4bc5844d-f552-4d09-9c7f-330836440b53"
      },
      "outputs": [
        {
          "output_type": "execute_result",
          "data": {
            "text/plain": [
              "array([[6., 0., 0., 0., 0.],\n",
              "       [0., 6., 0., 0., 0.],\n",
              "       [0., 0., 6., 0., 0.],\n",
              "       [0., 0., 0., 6., 0.],\n",
              "       [0., 0., 0., 0., 6.]])"
            ]
          },
          "metadata": {},
          "execution_count": 23
        }
      ],
      "source": [
        "np.eye(5)*6"
      ]
    },
    {
      "cell_type": "markdown",
      "metadata": {
        "id": "qQbY-kiBegkT"
      },
      "source": [
        "### Random\n",
        "En Numpy hay varias formas de crear números aleatorios:\n",
        "\n",
        "- **rand**. Crea un arreglo poblado con muestras aleatorias que provienen de una distribución uniforme [0,1)\n",
        "\n",
        "- **randn**. Crea un arreglo poblado con muestras aleatorias que provienen de una distribución normal con media 0 y desviación estándar 1\n",
        "\n",
        "- **randint**. Crea un arreglo poblado con enteros aleatorios que provienen de un intervalo dado [low,high)"
      ]
    },
    {
      "cell_type": "code",
      "execution_count": null,
      "metadata": {
        "id": "6OLCTrjNegkT"
      },
      "outputs": [],
      "source": [
        "'''se usa para establecer la semilla para el algoritmo generador\n",
        "de números pseudoaleatorios en Python'''\n",
        "np.random.seed(0)"
      ]
    },
    {
      "cell_type": "code",
      "execution_count": null,
      "metadata": {
        "id": "w_13q6--egkU",
        "colab": {
          "base_uri": "https://localhost:8080/"
        },
        "outputId": "affd1377-3487-48e5-847f-70ffa6ce158b"
      },
      "outputs": [
        {
          "output_type": "execute_result",
          "data": {
            "text/plain": [
              "array([0.5488135 , 0.71518937, 0.60276338, 0.54488318])"
            ]
          },
          "metadata": {},
          "execution_count": 25
        }
      ],
      "source": [
        "np.random.rand(4)"
      ]
    },
    {
      "cell_type": "code",
      "execution_count": null,
      "metadata": {
        "id": "c6vazf8KegkU",
        "colab": {
          "base_uri": "https://localhost:8080/"
        },
        "outputId": "3b88fe0e-7241-47ce-c9ca-67662830cd5c"
      },
      "outputs": [
        {
          "output_type": "execute_result",
          "data": {
            "text/plain": [
              "array([[0.4236548 , 0.64589411],\n",
              "       [0.43758721, 0.891773  ]])"
            ]
          },
          "metadata": {},
          "execution_count": 26
        }
      ],
      "source": [
        "np.random.rand(2,2)"
      ]
    },
    {
      "cell_type": "code",
      "execution_count": null,
      "metadata": {
        "id": "snGeQ-OQegkU",
        "colab": {
          "base_uri": "https://localhost:8080/"
        },
        "outputId": "8233387c-f576-458a-c575-668ce64282eb"
      },
      "outputs": [
        {
          "output_type": "execute_result",
          "data": {
            "text/plain": [
              "array([-0.10321885,  0.4105985 ,  0.14404357,  1.45427351])"
            ]
          },
          "metadata": {},
          "execution_count": 27
        }
      ],
      "source": [
        "np.random.randn(4)"
      ]
    },
    {
      "cell_type": "code",
      "execution_count": null,
      "metadata": {
        "id": "5S4vzaBaegkW",
        "colab": {
          "base_uri": "https://localhost:8080/"
        },
        "outputId": "4b070a16-bacc-479a-d86a-6b2facc6567f"
      },
      "outputs": [
        {
          "output_type": "execute_result",
          "data": {
            "text/plain": [
              "array([[0.76103773, 0.12167502],\n",
              "       [0.44386323, 0.33367433]])"
            ]
          },
          "metadata": {},
          "execution_count": 28
        }
      ],
      "source": [
        "np.random.randn(2,2)"
      ]
    },
    {
      "cell_type": "code",
      "execution_count": null,
      "metadata": {
        "id": "UXdW6h_Hegkf",
        "colab": {
          "base_uri": "https://localhost:8080/"
        },
        "outputId": "c3bb5802-4262-4004-f32c-376047fbd914"
      },
      "outputs": [
        {
          "output_type": "execute_result",
          "data": {
            "text/plain": [
              "3"
            ]
          },
          "metadata": {},
          "execution_count": 29
        }
      ],
      "source": [
        "np.random.randint(1,5)"
      ]
    },
    {
      "cell_type": "code",
      "execution_count": null,
      "metadata": {
        "id": "xppDShUZegkg",
        "colab": {
          "base_uri": "https://localhost:8080/"
        },
        "outputId": "758ac81e-9774-48dc-f54b-ada8494aece3"
      },
      "outputs": [
        {
          "output_type": "execute_result",
          "data": {
            "text/plain": [
              "array([ 4,  9,  2,  4, 14,  4,  4,  8,  1,  2])"
            ]
          },
          "metadata": {},
          "execution_count": 30
        }
      ],
      "source": [
        "np.random.randint(1,15,10)"
      ]
    },
    {
      "cell_type": "code",
      "execution_count": null,
      "metadata": {
        "id": "klcp9_sZegkg",
        "colab": {
          "base_uri": "https://localhost:8080/"
        },
        "outputId": "293a85db-5190-45fa-8a8c-6a86a20c8cae"
      },
      "outputs": [
        {
          "output_type": "execute_result",
          "data": {
            "text/plain": [
              "array([[10, 10,  1, 11],\n",
              "       [ 5,  8,  4, 12],\n",
              "       [ 3,  8,  3,  1]])"
            ]
          },
          "metadata": {},
          "execution_count": 31
        }
      ],
      "source": [
        "np.random.randint(1,13,size=(3,4))"
      ]
    },
    {
      "cell_type": "code",
      "execution_count": null,
      "metadata": {
        "id": "zqWxADPuegkg",
        "colab": {
          "base_uri": "https://localhost:8080/"
        },
        "outputId": "7c46efec-b843-4f6e-832d-24eaf7595b32"
      },
      "outputs": [
        {
          "output_type": "execute_result",
          "data": {
            "text/plain": [
              "array([[[1, 1, 2, 2, 3],\n",
              "        [1, 1, 2, 1, 2],\n",
              "        [3, 3, 1, 2, 2],\n",
              "        [2, 2, 3, 3, 3]],\n",
              "\n",
              "       [[1, 3, 2, 1, 2],\n",
              "        [3, 1, 1, 3, 1],\n",
              "        [1, 1, 1, 1, 1],\n",
              "        [3, 1, 3, 2, 2]],\n",
              "\n",
              "       [[2, 1, 2, 2, 2],\n",
              "        [1, 2, 3, 1, 2],\n",
              "        [3, 1, 3, 1, 2],\n",
              "        [3, 3, 2, 1, 2]]])"
            ]
          },
          "metadata": {},
          "execution_count": 32
        }
      ],
      "source": [
        "np.random.randint(1,4,size=(3,4,5))"
      ]
    },
    {
      "cell_type": "markdown",
      "metadata": {
        "id": "OioYBC5Iegkh"
      },
      "source": [
        "## Atributos de arreglos Numpy\n",
        "Para conocer el tamaño, forma, y tipo de datos de los arreglos"
      ]
    },
    {
      "cell_type": "code",
      "execution_count": null,
      "metadata": {
        "id": "tOGcZQ_Hegkn"
      },
      "outputs": [],
      "source": [
        "#Primero vamos a definir un par de arreglos con los cuales trabajaremos a lo largo de esta sección\n",
        "np.random.seed(0)\n",
        "arr1 = np.random.randint(10,size=7) #Arreglo de una dimensión\n",
        "arr2 = np.random.randint(10,size=(2,3)) #Arreglo de dos dimensiones\n",
        "arr3 = np.random.randint(10,size=(2,3,4)) #Arreglo de tres dimensiones\n",
        "\n",
        "arr4 = np.random.rand(7,1) #Arreglo de una dimensión"
      ]
    },
    {
      "cell_type": "markdown",
      "metadata": {
        "id": "SUfYFb6jegko"
      },
      "source": [
        "### Shape\n",
        "Indica la forma del arreglo"
      ]
    },
    {
      "cell_type": "code",
      "execution_count": null,
      "metadata": {
        "id": "GcDz0Pd2egkq"
      },
      "outputs": [],
      "source": [
        "print('Forma del arr1: ',   arr1.shape)\n",
        "print('Forma del arr2: ',   arr2.shape)\n",
        "print('Forma del arr3: ',   arr3.shape)\n",
        "print('Forma del arr4: ',   arr4.shape)"
      ]
    },
    {
      "cell_type": "markdown",
      "metadata": {
        "id": "MCkni7fNegkq"
      },
      "source": [
        "### Size\n",
        "Indica el tamaño del arreglo"
      ]
    },
    {
      "cell_type": "code",
      "execution_count": null,
      "metadata": {
        "id": "mvtJnBYeegkr"
      },
      "outputs": [],
      "source": [
        "print('Tamaño del arr1: ',   arr1.size)\n",
        "print('Tamaño del arr2: ',   arr2.size)\n",
        "print('Tamaño del arr3: ',   arr3.size)\n",
        "print('Tamaño del arr4: ',   arr4.size)"
      ]
    },
    {
      "cell_type": "markdown",
      "metadata": {
        "id": "N1zCCbniegku"
      },
      "source": [
        "### dtype\n",
        "Tipo de dato del arreglo"
      ]
    },
    {
      "cell_type": "code",
      "execution_count": null,
      "metadata": {
        "id": "HlW6i6ubegkv"
      },
      "outputs": [],
      "source": [
        "print('Tipo del arr1: ',   arr1.dtype)\n",
        "print('Tipo del arr2: ',   arr2.dtype)\n",
        "print('Tipo del arr3: ',   arr3.dtype)\n",
        "print('Tipo del arr4: ',   arr4.dtype)"
      ]
    },
    {
      "cell_type": "markdown",
      "metadata": {
        "id": "w3BnPEhtegkw"
      },
      "source": [
        "### itemsize\n",
        "Tamaño en bytes de los elementos del arreglo\n"
      ]
    },
    {
      "cell_type": "code",
      "execution_count": null,
      "metadata": {
        "id": "xXXtYpuhegkz"
      },
      "outputs": [],
      "source": [
        "print('Itemsize del arr1: ',   arr1.itemsize)\n",
        "print('Itemsize del arr2: ',   arr2.itemsize)\n",
        "print('Itemsize del arr3: ',   arr3.itemsize)\n",
        "print('Itemsize del arr4: ',   arr4.itemsize)"
      ]
    },
    {
      "cell_type": "markdown",
      "metadata": {
        "id": "Q0qpS5ffegk1"
      },
      "source": [
        "### nbytes\n",
        "Tamaño en bytes del arreglo"
      ]
    },
    {
      "cell_type": "code",
      "execution_count": null,
      "metadata": {
        "id": "C1YrZvg7egk2"
      },
      "outputs": [],
      "source": [
        "print('Nbytes del arr1: ',   arr1.nbytes)\n",
        "print('Nbytes del arr2: ',   arr2.nbytes)\n",
        "print('Nbytes del arr3: ',   arr3.nbytes)\n",
        "print('Nbytes del arr4: ',   arr4.nbytes)"
      ]
    },
    {
      "cell_type": "code",
      "execution_count": null,
      "metadata": {
        "id": "qLbAFxwaegk8"
      },
      "outputs": [],
      "source": []
    }
  ],
  "metadata": {
    "kernelspec": {
      "display_name": "Python 3 (ipykernel)",
      "language": "python",
      "name": "python3"
    },
    "language_info": {
      "codemirror_mode": {
        "name": "ipython",
        "version": 3
      },
      "file_extension": ".py",
      "mimetype": "text/x-python",
      "name": "python",
      "nbconvert_exporter": "python",
      "pygments_lexer": "ipython3",
      "version": "3.8.5"
    },
    "nteract": {
      "version": "0.28.0"
    },
    "colab": {
      "provenance": [],
      "include_colab_link": true
    }
  },
  "nbformat": 4,
  "nbformat_minor": 0
}