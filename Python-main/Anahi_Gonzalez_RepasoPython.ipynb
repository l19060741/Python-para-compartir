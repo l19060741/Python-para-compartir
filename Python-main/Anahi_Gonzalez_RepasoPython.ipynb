{
  "cells": [
    {
      "cell_type": "markdown",
      "metadata": {
        "id": "view-in-github",
        "colab_type": "text"
      },
      "source": [
        "<a href=\"https://colab.research.google.com/github/l19060741/Curso-Phyton/blob/main/Anahi_Gonzalez_RepasoPython.ipynb\" target=\"_parent\"><img src=\"https://colab.research.google.com/assets/colab-badge.svg\" alt=\"Open In Colab\"/></a>"
      ]
    },
    {
      "cell_type": "markdown",
      "metadata": {
        "id": "g-ot9BHYtSeg"
      },
      "source": [
        "Primero empezamos con Tipos de datos:\n",
        "\n",
        "- Números\n",
        "- Cadenas\n",
        "- Listas\n",
        "- Diccionarios\n",
        "- Booleanos\n",
        "- Tuplas\n",
        "- Conjuntos"
      ]
    },
    {
      "cell_type": "markdown",
      "metadata": {
        "id": "Bkw5qw7stSep"
      },
      "source": [
        "# Tipos de datos\n",
        "## Números"
      ]
    },
    {
      "cell_type": "code",
      "execution_count": null,
      "metadata": {
        "id": "1aYzlrjmtSeq"
      },
      "outputs": [],
      "source": [
        "#Podemos escribir números\n",
        "1"
      ]
    },
    {
      "cell_type": "code",
      "execution_count": null,
      "metadata": {
        "id": "p4MlLKRetSet"
      },
      "outputs": [],
      "source": [
        "# Podemos usar Python como calculadora\n",
        "1+3"
      ]
    },
    {
      "cell_type": "code",
      "execution_count": null,
      "metadata": {
        "colab": {
          "base_uri": "https://localhost:8080/"
        },
        "id": "rQU6rSZytSeu",
        "outputId": "c279f072-1537-47f7-b9fe-35aa462d77dd"
      },
      "outputs": [
        {
          "output_type": "execute_result",
          "data": {
            "text/plain": [
              "1.0"
            ]
          },
          "metadata": {},
          "execution_count": 2
        }
      ],
      "source": [
        "8/8"
      ]
    },
    {
      "cell_type": "code",
      "execution_count": null,
      "metadata": {
        "id": "dDbzk7u7tSeu"
      },
      "outputs": [],
      "source": [
        "#Podemos usar todas las operaciones matemáticas\n",
        "# + (suma)\n",
        "# * (multiplicación)\n",
        "# - (resta)\n",
        "# / (división)\n",
        "# // (división entero)\n",
        "# % (módulo)\n",
        "# ** (elevar a una potencia)\n",
        "9//4"
      ]
    },
    {
      "cell_type": "markdown",
      "metadata": {
        "id": "h4RTGb-FtSew"
      },
      "source": [
        "### Asignación de variables"
      ]
    },
    {
      "cell_type": "code",
      "execution_count": null,
      "metadata": {
        "id": "Cd8zOhuDtSex"
      },
      "outputs": [],
      "source": [
        "# Podemos asignar números (y otros objetos que veremos más adelante) a variables.\n",
        "var1 = 5"
      ]
    },
    {
      "cell_type": "code",
      "execution_count": null,
      "metadata": {
        "colab": {
          "base_uri": "https://localhost:8080/"
        },
        "id": "kICloMNKtSez",
        "outputId": "4a5c03b2-b5df-453f-fc28-9682c9460cd6"
      },
      "outputs": [
        {
          "output_type": "execute_result",
          "data": {
            "text/plain": [
              "5"
            ]
          },
          "metadata": {},
          "execution_count": 4
        }
      ],
      "source": [
        "# Podemos desplegar el contenido de la variable var1\n",
        "var1"
      ]
    },
    {
      "cell_type": "code",
      "execution_count": null,
      "metadata": {
        "colab": {
          "base_uri": "https://localhost:8080/"
        },
        "id": "Xs2cSNlptSe1",
        "outputId": "060b109b-7041-4c25-a6a5-e6f76fb6da85"
      },
      "outputs": [
        {
          "output_type": "stream",
          "name": "stdout",
          "text": [
            "5\n"
          ]
        }
      ],
      "source": [
        "#Podemos imprimir el contenido de la variable var1\n",
        "print(var1)"
      ]
    },
    {
      "cell_type": "code",
      "execution_count": null,
      "metadata": {
        "id": "w_gzFrTntSe2"
      },
      "outputs": [],
      "source": [
        "# Declarar varias variables\n",
        "var1 = 5\n",
        "var2 = 3\n",
        "var3 = -9"
      ]
    },
    {
      "cell_type": "code",
      "execution_count": null,
      "metadata": {
        "id": "xRtcG64dtSe3"
      },
      "outputs": [],
      "source": [
        "#Hacer operaciones con las variables\n",
        "var1+var2"
      ]
    },
    {
      "cell_type": "code",
      "execution_count": null,
      "metadata": {
        "id": "rLnWHRimtSe3"
      },
      "outputs": [],
      "source": [
        "var3/var2"
      ]
    },
    {
      "cell_type": "markdown",
      "metadata": {
        "id": "gOezFOqftSe4"
      },
      "source": [
        "## Cadenas (Strings)"
      ]
    },
    {
      "cell_type": "code",
      "execution_count": null,
      "metadata": {
        "id": "ux-FNvlctSe4"
      },
      "outputs": [],
      "source": [
        "'Las cadenas puede ir entre comillas sencillas'"
      ]
    },
    {
      "cell_type": "code",
      "execution_count": null,
      "metadata": {
        "id": "22SSsK96tSe5"
      },
      "outputs": [],
      "source": [
        "\"También pueden ir entre comillas dobles\""
      ]
    },
    {
      "cell_type": "code",
      "execution_count": null,
      "metadata": {
        "colab": {
          "base_uri": "https://localhost:8080/",
          "height": 35
        },
        "id": "nfcCbkIftSe5",
        "outputId": "62a80e8f-ee91-4922-9877-3b0a42fac89f"
      },
      "outputs": [
        {
          "output_type": "execute_result",
          "data": {
            "text/plain": [
              "\"Se pueden guardar en variables y se pueden combinar con las otras comillas 'como este ejemplo'\""
            ],
            "application/vnd.google.colaboratory.intrinsic+json": {
              "type": "string"
            }
          },
          "metadata": {},
          "execution_count": 10
        }
      ],
      "source": [
        "str_var1 = \"Se pueden guardar en variables y se pueden combinar con las otras comillas 'como este ejemplo'\"\n",
        "str_var1"
      ]
    },
    {
      "cell_type": "code",
      "execution_count": null,
      "metadata": {
        "colab": {
          "base_uri": "https://localhost:8080/"
        },
        "id": "95mnOBOZtSe6",
        "outputId": "b3a46320-57d3-4615-8775-2d19b6fdc599"
      },
      "outputs": [
        {
          "output_type": "stream",
          "name": "stdout",
          "text": [
            "También se pueden imprimir\n"
          ]
        }
      ],
      "source": [
        "print('También se pueden imprimir')"
      ]
    },
    {
      "cell_type": "code",
      "execution_count": null,
      "metadata": {
        "colab": {
          "base_uri": "https://localhost:8080/"
        },
        "id": "LYvCAZcltSe6",
        "outputId": "a5e74da4-20fa-4d4d-ed7c-3c7dd08d50c4"
      },
      "outputs": [
        {
          "output_type": "stream",
          "name": "stdout",
          "text": [
            "Se pueden imprimir cadenas y variables, por ejemplo el número: 3\n"
          ]
        }
      ],
      "source": [
        "var1=2\n",
        "print('Se pueden imprimir cadenas y variables, por ejemplo el número:',3)"
      ]
    },
    {
      "cell_type": "code",
      "execution_count": null,
      "metadata": {
        "colab": {
          "base_uri": "https://localhost:8080/"
        },
        "id": "sEy2zxvbtSe7",
        "outputId": "7216c455-b728-4755-9a47-d9149d57e671"
      },
      "outputs": [
        {
          "output_type": "stream",
          "name": "stdout",
          "text": [
            "Esas variables no necesariamente tienen que ser números: cadena 1\n"
          ]
        }
      ],
      "source": [
        "str_var1 = 'cadena 1'\n",
        "print('Esas variables no necesariamente tienen que ser números:', str_var1)"
      ]
    },
    {
      "cell_type": "code",
      "execution_count": null,
      "metadata": {
        "id": "Tb17O6m2tSe7",
        "colab": {
          "base_uri": "https://localhost:8080/"
        },
        "outputId": "e62dbd02-d36a-45ad-b52c-d6833dfabc02"
      },
      "outputs": [
        {
          "output_type": "stream",
          "name": "stdout",
          "text": [
            "Hay formas más sofisticadas para pasar las variables, por ejemplo números: 2, u otro tipo de variables: cadena 1\n"
          ]
        }
      ],
      "source": [
        "print('Hay formas más sofisticadas para pasar las variables, por ejemplo números: {}, u otro tipo de variables: {}'.format(var1,str_var1))"
      ]
    },
    {
      "cell_type": "code",
      "execution_count": null,
      "metadata": {
        "id": "RFt7upQVtSe8"
      },
      "outputs": [],
      "source": [
        "str_var1 = \"Podemos concatenar segmentos de texto, como este,\"\n",
        "str_var2 = \"y este otro\"\n",
        "str_var1 + str_var2"
      ]
    },
    {
      "cell_type": "code",
      "execution_count": null,
      "metadata": {
        "id": "NF9BPxh5tSe8"
      },
      "outputs": [],
      "source": []
    },
    {
      "cell_type": "markdown",
      "metadata": {
        "id": "0DCyEUrctSe9"
      },
      "source": [
        "## Listas"
      ]
    },
    {
      "cell_type": "code",
      "execution_count": null,
      "metadata": {
        "id": "hHRQkWeZtSe9",
        "colab": {
          "base_uri": "https://localhost:8080/"
        },
        "outputId": "9cb84ef3-a709-4a8c-f39c-c73ae611f610"
      },
      "outputs": [
        {
          "output_type": "execute_result",
          "data": {
            "text/plain": [
              "[1, 2, 3]"
            ]
          },
          "metadata": {},
          "execution_count": 1
        }
      ],
      "source": [
        "# Definimos las listas entre cocrchetes, con los elementos separados por comas\n",
        "[1,2,3]"
      ]
    },
    {
      "cell_type": "code",
      "execution_count": null,
      "metadata": {
        "id": "a0-4BUxBtSe-",
        "colab": {
          "base_uri": "https://localhost:8080/"
        },
        "outputId": "ac31d86f-94a3-41f1-ddbb-9767f3cd7a8b"
      },
      "outputs": [
        {
          "output_type": "stream",
          "name": "stdout",
          "text": [
            "Este es un ejemplo de una lista [2, 3, 4]\n"
          ]
        }
      ],
      "source": [
        "# Las podemos asignar a variables\n",
        "lista1 = [2,3,4]\n",
        "# y podemos imprimirla junto con texto\n",
        "print('Este es un ejemplo de una lista {}'.format(lista1))"
      ]
    },
    {
      "cell_type": "code",
      "execution_count": null,
      "metadata": {
        "id": "HGz_Y7wjtSe-",
        "colab": {
          "base_uri": "https://localhost:8080/"
        },
        "outputId": "49d364cb-dca7-4316-a78e-b5e061042979"
      },
      "outputs": [
        {
          "output_type": "execute_result",
          "data": {
            "text/plain": [
              "['a', 'b', 'c']"
            ]
          },
          "metadata": {},
          "execution_count": 3
        }
      ],
      "source": [
        "# Las listas, además de números, también pueden ser de otro tipo de datos, como cadenas\n",
        "['a','b','c']"
      ]
    },
    {
      "cell_type": "code",
      "execution_count": null,
      "metadata": {
        "id": "N5lp4PnCtSe-",
        "colab": {
          "base_uri": "https://localhost:8080/"
        },
        "outputId": "2066c84c-93a7-42e1-c5c4-8dd97406fd09"
      },
      "outputs": [
        {
          "output_type": "execute_result",
          "data": {
            "text/plain": [
              "['a', 2, 4, 'cadena']"
            ]
          },
          "metadata": {},
          "execution_count": 4
        }
      ],
      "source": [
        "# Las listas también pueden formarse con diferentes tipos de datos\n",
        "['a',2,4,'cadena']"
      ]
    },
    {
      "cell_type": "code",
      "execution_count": null,
      "metadata": {
        "colab": {
          "base_uri": "https://localhost:8080/",
          "height": 35
        },
        "id": "a7AFSqYFtSe-",
        "outputId": "76bc192e-d59b-4865-ed8f-345d7af756d3"
      },
      "outputs": [
        {
          "output_type": "execute_result",
          "data": {
            "text/plain": [
              "'cadena'"
            ],
            "application/vnd.google.colaboratory.intrinsic+json": {
              "type": "string"
            }
          },
          "metadata": {},
          "execution_count": 5
        }
      ],
      "source": [
        "#Podemos acceder a elementos especificos de listas\n",
        "lista1 = ['a',2,4,'cadena',8]\n",
        "lista1[3]  #Indexando el valor que queremos"
      ]
    },
    {
      "cell_type": "code",
      "execution_count": null,
      "metadata": {
        "colab": {
          "base_uri": "https://localhost:8080/"
        },
        "id": "fOC6jV4HtSe_",
        "outputId": "4d0a1d3f-9780-4571-96d9-57822472fa85"
      },
      "outputs": [
        {
          "output_type": "execute_result",
          "data": {
            "text/plain": [
              "['a', 2, -7, 'cadena', 8]"
            ]
          },
          "metadata": {},
          "execution_count": 6
        }
      ],
      "source": [
        "#Podemos modificar valores de la lista\n",
        "lista1[2] = -7\n",
        "lista1"
      ]
    },
    {
      "cell_type": "code",
      "execution_count": null,
      "metadata": {
        "colab": {
          "base_uri": "https://localhost:8080/"
        },
        "id": "MTDnhcMztSe_",
        "outputId": "09f1a998-fb86-43cc-dc57-c23477eb159e"
      },
      "outputs": [
        {
          "output_type": "execute_result",
          "data": {
            "text/plain": [
              "['a', 2, -7]"
            ]
          },
          "metadata": {},
          "execution_count": 7
        }
      ],
      "source": [
        "#El indexado de las listas puede ser más sofisticado usando dos puntos (:)\n",
        "#Este es un ejemplo de tomar desde el índice 0 hasta el 'índice 3-1\n",
        "lista1[0:3]\n"
      ]
    },
    {
      "cell_type": "code",
      "execution_count": null,
      "metadata": {
        "id": "bAyQmd3RtSe_",
        "colab": {
          "base_uri": "https://localhost:8080/"
        },
        "outputId": "ddd67fd5-c8fd-47c0-b792-18d107f04035"
      },
      "outputs": [
        {
          "output_type": "execute_result",
          "data": {
            "text/plain": [
              "[2, -7]"
            ]
          },
          "metadata": {},
          "execution_count": 8
        }
      ],
      "source": [
        "#Este es un ejemplo de tomar desde el índice 1 hasta el índice 3-1\n",
        "lista1[1:3]"
      ]
    },
    {
      "cell_type": "code",
      "execution_count": null,
      "metadata": {
        "id": "0CDT1-ectSe_",
        "colab": {
          "base_uri": "https://localhost:8080/"
        },
        "outputId": "fa4969a7-d94e-4b9b-a1e8-14040eaa5bf2"
      },
      "outputs": [
        {
          "output_type": "execute_result",
          "data": {
            "text/plain": [
              "['a', 2, -7, 'cadena']"
            ]
          },
          "metadata": {},
          "execution_count": 9
        }
      ],
      "source": [
        "#Este es un ejemplo de tomar desde el inicio hasta el índice 4-1\n",
        "lista1[:4]"
      ]
    },
    {
      "cell_type": "code",
      "execution_count": null,
      "metadata": {
        "colab": {
          "base_uri": "https://localhost:8080/"
        },
        "id": "w1DjX9ghtSfB",
        "outputId": "3cf66db6-7366-4a24-bbff-c945aa7d30c4"
      },
      "outputs": [
        {
          "output_type": "execute_result",
          "data": {
            "text/plain": [
              "['a', 2, -7, 'cadena', 8]"
            ]
          },
          "metadata": {},
          "execution_count": 10
        }
      ],
      "source": [
        "# Las listas poseen varias funciones, una muy importante es append, que nos permite agregar elementos nuevos al final de la lista\n",
        "#Recordemos nuestra lista\n",
        "lista1"
      ]
    },
    {
      "cell_type": "code",
      "execution_count": null,
      "metadata": {
        "id": "6IbDvwNztSfC"
      },
      "outputs": [],
      "source": [
        "# Dado que tenemos una lista que ya existe,\n",
        "#  con 'append' agregamos nuevos elementos\n",
        "lista1.append('nuevo')"
      ]
    },
    {
      "cell_type": "code",
      "execution_count": null,
      "metadata": {
        "id": "iXf-KaS_tSfC",
        "outputId": "5465ac2b-19bf-4312-eef4-22544448ffe9",
        "colab": {
          "base_uri": "https://localhost:8080/"
        }
      },
      "outputs": [
        {
          "output_type": "execute_result",
          "data": {
            "text/plain": [
              "['a', 2, -7, 'cadena', 8, 'nuevo']"
            ]
          },
          "metadata": {},
          "execution_count": 12
        }
      ],
      "source": [
        "lista1"
      ]
    },
    {
      "cell_type": "code",
      "execution_count": null,
      "metadata": {
        "id": "InWOeoibtSfE"
      },
      "outputs": [],
      "source": [
        "#Podemos definir listas vacías\n",
        "lista2 = []"
      ]
    },
    {
      "cell_type": "code",
      "execution_count": null,
      "metadata": {
        "colab": {
          "base_uri": "https://localhost:8080/",
          "height": 183
        },
        "id": "qkbMTPTetSfF",
        "outputId": "d6f6ea31-928c-46f5-ff3f-fa838556e664"
      },
      "outputs": [
        {
          "output_type": "error",
          "ename": "IndexError",
          "evalue": "ignored",
          "traceback": [
            "\u001b[0;31m---------------------------------------------------------------------------\u001b[0m",
            "\u001b[0;31mIndexError\u001b[0m                                Traceback (most recent call last)",
            "\u001b[0;32m<ipython-input-14-b5d66f3d93de>\u001b[0m in \u001b[0;36m<module>\u001b[0;34m\u001b[0m\n\u001b[1;32m      1\u001b[0m \u001b[0;31m# Si intentamos agregar un valor de esta forma nos marcará error\u001b[0m\u001b[0;34m\u001b[0m\u001b[0;34m\u001b[0m\u001b[0;34m\u001b[0m\u001b[0m\n\u001b[0;32m----> 2\u001b[0;31m \u001b[0mlista2\u001b[0m\u001b[0;34m[\u001b[0m\u001b[0;36m0\u001b[0m\u001b[0;34m]\u001b[0m\u001b[0;34m=\u001b[0m\u001b[0;36m2\u001b[0m\u001b[0;34m\u001b[0m\u001b[0;34m\u001b[0m\u001b[0m\n\u001b[0m",
            "\u001b[0;31mIndexError\u001b[0m: list assignment index out of range"
          ]
        }
      ],
      "source": [
        "# Si intentamos agregar un valor de esta forma nos marcará error\n",
        "lista2[0]=2"
      ]
    },
    {
      "cell_type": "code",
      "execution_count": null,
      "metadata": {
        "id": "L6CIiIcztSfF"
      },
      "outputs": [],
      "source": [
        "#Pero con append no\n",
        "lista2.append(2)"
      ]
    },
    {
      "cell_type": "code",
      "execution_count": null,
      "metadata": {
        "id": "Oqy1XTdBtSfF"
      },
      "outputs": [],
      "source": [
        "#Asi como podemos tener listas de números y de cadenas, también podemos tener listas con listas\n",
        "lista_con_listas = [1,2,3,[4,5,'cadena',['nueva cadena']]]"
      ]
    },
    {
      "cell_type": "code",
      "execution_count": null,
      "metadata": {
        "id": "H28Jo8OrtSfF"
      },
      "outputs": [],
      "source": [
        "#Para acceder a los elementos ya se vuelve más interesante\n",
        "lista_con_listas[3][3]"
      ]
    },
    {
      "cell_type": "markdown",
      "metadata": {
        "id": "uMCq7MDotSfG"
      },
      "source": [
        "## Diccionarios"
      ]
    },
    {
      "cell_type": "code",
      "execution_count": null,
      "metadata": {
        "id": "9QNYYOTatSfG"
      },
      "outputs": [],
      "source": [
        "# En los diccionarios, los elementos tienen una llave(key) y un valor (value)\n",
        "d1 ={'llave1':'valor1','llave2':'valor2','llave3':'valor3' }\n",
        "d1"
      ]
    },
    {
      "cell_type": "code",
      "execution_count": null,
      "metadata": {
        "id": "Em4Vs3uStSfG"
      },
      "outputs": [],
      "source": [
        "# Para acceder a cada valor, indexamos la llave\n",
        "d1['llave2']"
      ]
    },
    {
      "cell_type": "code",
      "execution_count": null,
      "metadata": {
        "id": "LIgYaE56tSfH"
      },
      "outputs": [],
      "source": [
        "# Las llaves no tienen que ser necesariamente texto\n",
        "d2 ={2:3,5:6,1:-9}\n",
        "d2"
      ]
    },
    {
      "cell_type": "code",
      "execution_count": null,
      "metadata": {
        "id": "0QruDG8FtSfH"
      },
      "outputs": [],
      "source": [
        "d2[1]"
      ]
    },
    {
      "cell_type": "code",
      "execution_count": null,
      "metadata": {
        "id": "8xLjFUr9tSfH"
      },
      "outputs": [],
      "source": [
        "# Los valores tampoco esta restringidos a ser números\n",
        "d3 ={1:[1,2,3],2:'cadena','tres':{1:2,2:3}}\n",
        "d3"
      ]
    },
    {
      "cell_type": "code",
      "execution_count": null,
      "metadata": {
        "id": "65xlmfietSfH"
      },
      "outputs": [],
      "source": [
        "d3['tres'][2]"
      ]
    },
    {
      "cell_type": "code",
      "execution_count": null,
      "metadata": {
        "id": "9Mg6TpURtSfH"
      },
      "outputs": [],
      "source": [
        "#Podemos definir diccionarios vacíos\n",
        "d4={}\n",
        "type(d4)"
      ]
    },
    {
      "cell_type": "code",
      "execution_count": null,
      "metadata": {
        "id": "Eeit6VrstSfI"
      },
      "outputs": [],
      "source": [
        "# Podemos agregar campos\n",
        "d4['key1'] = [1,2,3]\n",
        "d4\n",
        "#En este caso no marca error como con las listas"
      ]
    },
    {
      "cell_type": "markdown",
      "metadata": {
        "id": "1VIM7tVytSfI"
      },
      "source": [
        "## Booleanos"
      ]
    },
    {
      "cell_type": "code",
      "execution_count": null,
      "metadata": {
        "id": "FoMSLuF4tSfI"
      },
      "outputs": [],
      "source": [
        "# Un tipo de dato booleano solo pueden tener dos valores, es Verdadero (True) o Falso (False)\n",
        "True"
      ]
    },
    {
      "cell_type": "markdown",
      "metadata": {
        "id": "CqwmHxagtSfJ"
      },
      "source": []
    },
    {
      "cell_type": "code",
      "execution_count": null,
      "metadata": {
        "id": "mY0WYPeZtSfJ"
      },
      "outputs": [],
      "source": [
        "b1 = False"
      ]
    },
    {
      "cell_type": "code",
      "execution_count": null,
      "metadata": {
        "id": "FfAUROPItSfK"
      },
      "outputs": [],
      "source": [
        "# Este tipo de datos nos permite hacer comparaciones\n",
        "True == True"
      ]
    },
    {
      "cell_type": "code",
      "execution_count": null,
      "metadata": {
        "id": "JSG5f65htSfL"
      },
      "outputs": [],
      "source": [
        "True == False"
      ]
    },
    {
      "cell_type": "code",
      "execution_count": null,
      "metadata": {
        "id": "cHzkADO-tSfL"
      },
      "outputs": [],
      "source": [
        "1<5"
      ]
    },
    {
      "cell_type": "code",
      "execution_count": null,
      "metadata": {
        "id": "1upqWSR0tSfN"
      },
      "outputs": [],
      "source": [
        "2<10"
      ]
    },
    {
      "cell_type": "code",
      "execution_count": null,
      "metadata": {
        "id": "LuJcX5a3tSfN"
      },
      "outputs": [],
      "source": [
        "(1<5) == (2<10)"
      ]
    },
    {
      "cell_type": "code",
      "execution_count": null,
      "metadata": {
        "id": "pKSCGB1ItSfN"
      },
      "outputs": [],
      "source": [
        "(3<1) == (2<10)"
      ]
    },
    {
      "cell_type": "markdown",
      "metadata": {
        "id": "4fftXe6EtSfO"
      },
      "source": [
        "## Tuplas"
      ]
    },
    {
      "cell_type": "code",
      "execution_count": null,
      "metadata": {
        "id": "UO6t76FCtSfO"
      },
      "outputs": [],
      "source": [
        "# Es un tipo de dato inmutable con elementos entre paréntesis separados por comas\n",
        "t1 = (1,2,3)"
      ]
    },
    {
      "cell_type": "code",
      "execution_count": null,
      "metadata": {
        "id": "HqaOuhLAtSfO",
        "outputId": "1fb1ac2f-22f7-4ae4-b653-ece19db4b6ba",
        "colab": {
          "base_uri": "https://localhost:8080/",
          "height": 183
        }
      },
      "outputs": [
        {
          "output_type": "error",
          "ename": "NameError",
          "evalue": "ignored",
          "traceback": [
            "\u001b[0;31m---------------------------------------------------------------------------\u001b[0m",
            "\u001b[0;31mNameError\u001b[0m                                 Traceback (most recent call last)",
            "\u001b[0;32m<ipython-input-1-64538dd02e39>\u001b[0m in \u001b[0;36m<module>\u001b[0;34m\u001b[0m\n\u001b[1;32m      1\u001b[0m \u001b[0;31m#Podemos regresar uno de sus valores\u001b[0m\u001b[0;34m\u001b[0m\u001b[0;34m\u001b[0m\u001b[0;34m\u001b[0m\u001b[0m\n\u001b[0;32m----> 2\u001b[0;31m \u001b[0mt1\u001b[0m\u001b[0;34m[\u001b[0m\u001b[0;36m2\u001b[0m\u001b[0;34m]\u001b[0m\u001b[0;34m\u001b[0m\u001b[0;34m\u001b[0m\u001b[0m\n\u001b[0m",
            "\u001b[0;31mNameError\u001b[0m: name 't1' is not defined"
          ]
        }
      ],
      "source": [
        "#Podemos regresar uno de sus valores\n",
        "t1[2]"
      ]
    },
    {
      "cell_type": "code",
      "execution_count": null,
      "metadata": {
        "id": "ds4A5HUctSfO"
      },
      "outputs": [],
      "source": [
        "#Pero no podemos modifcarlo, porque es inmutable\n",
        "t1[1]=5"
      ]
    },
    {
      "cell_type": "markdown",
      "metadata": {
        "id": "I0AA_QrstSfO"
      },
      "source": [
        "## Conjuntos"
      ]
    },
    {
      "cell_type": "code",
      "execution_count": null,
      "metadata": {
        "id": "CyBeN6DItSfP"
      },
      "outputs": [],
      "source": [
        "# Los conjuntos se definen entre llaves y sus elementos van separados por comas, en este caso, si hay elementos repetidos, solo se cuentan una vez"
      ]
    },
    {
      "cell_type": "code",
      "execution_count": null,
      "metadata": {
        "id": "tlbH7KhMtSfP"
      },
      "outputs": [],
      "source": [
        "# Definimos un conjunto\n",
        "s1 ={1,2,3}\n",
        "s1"
      ]
    },
    {
      "cell_type": "code",
      "execution_count": null,
      "metadata": {
        "id": "avi83NAitSfP",
        "colab": {
          "base_uri": "https://localhost:8080/"
        },
        "outputId": "1ed1cebf-033c-485a-edd5-7fdf87e3692f"
      },
      "outputs": [
        {
          "output_type": "execute_result",
          "data": {
            "text/plain": [
              "{2, 3, 'a', 'b'}"
            ]
          },
          "metadata": {},
          "execution_count": 2
        }
      ],
      "source": [
        "# Definimos un conjunto, en el que existen varis elementos repetidos\n",
        "# pero el tipo de dato conjunto sabe que solo deben ser elementos unicos\n",
        "s2={'a','a','b','b',2,2,3}\n",
        "s2"
      ]
    },
    {
      "cell_type": "code",
      "execution_count": null,
      "metadata": {
        "id": "TVNcBXtwtSfP",
        "colab": {
          "base_uri": "https://localhost:8080/"
        },
        "outputId": "1617d7fa-0978-4ad6-b990-af0562e78e6e"
      },
      "outputs": [
        {
          "output_type": "execute_result",
          "data": {
            "text/plain": [
              "set"
            ]
          },
          "metadata": {},
          "execution_count": 4
        }
      ],
      "source": [
        "type(s2)"
      ]
    },
    {
      "cell_type": "markdown",
      "metadata": {
        "id": "DIpJnjwztSfU"
      },
      "source": [
        "# Operadores lógicos\n",
        "- and\n",
        "- or\n",
        "- not\n"
      ]
    },
    {
      "cell_type": "code",
      "execution_count": null,
      "metadata": {
        "id": "_pDweyIvtSfU",
        "colab": {
          "base_uri": "https://localhost:8080/"
        },
        "outputId": "841b556a-a8ad-4cbf-9d7e-1afaa54683fb"
      },
      "outputs": [
        {
          "output_type": "execute_result",
          "data": {
            "text/plain": [
              "True"
            ]
          },
          "metadata": {},
          "execution_count": 7
        }
      ],
      "source": [
        "# Con el operador lógico 'and' ambos enunciados deben ser ciertos para regresar True\n",
        "python_is_cool = (1==1) and (3 < 9)\n",
        "python_is_cool"
      ]
    },
    {
      "cell_type": "code",
      "execution_count": null,
      "metadata": {
        "id": "FMEYABu_tSfV"
      },
      "outputs": [],
      "source": [
        "# Con el operador lógico 'or' al menos enunciados debe ser cierto para regresar True\n",
        "(2 > 7) or (3 < 9)"
      ]
    },
    {
      "cell_type": "code",
      "execution_count": null,
      "metadata": {
        "id": "jYenFtcXtSfV"
      },
      "outputs": [],
      "source": [
        "# Con el operador lógico 'or' al menos enunciados debe ser cierto para regresar True\n",
        "not(2 > 7)"
      ]
    },
    {
      "cell_type": "markdown",
      "metadata": {
        "id": "OqMeemGDtSfW"
      },
      "source": [
        "### Condicionales\n",
        "- if\n",
        "- else\n",
        "- elif"
      ]
    },
    {
      "cell_type": "code",
      "execution_count": null,
      "metadata": {
        "id": "jOK1-M1mtSfW",
        "colab": {
          "base_uri": "https://localhost:8080/"
        },
        "outputId": "434c152f-ab0e-4b92-925a-0feac53214a8"
      },
      "outputs": [
        {
          "output_type": "stream",
          "name": "stdout",
          "text": [
            "Es menor\n"
          ]
        }
      ],
      "source": [
        "# El condicional 'if' (si)\n",
        "x=2\n",
        "if x<3:\n",
        "    print('Es menor')"
      ]
    },
    {
      "cell_type": "code",
      "execution_count": null,
      "metadata": {
        "id": "WtA7mkZCtSfX",
        "colab": {
          "base_uri": "https://localhost:8080/"
        },
        "outputId": "f36941cf-4f62-4f11-cad0-c46d766a603b"
      },
      "outputs": [
        {
          "output_type": "stream",
          "name": "stdout",
          "text": [
            "Es mayor\n"
          ]
        }
      ],
      "source": [
        "# Else\n",
        "x=4\n",
        "if x<3:\n",
        "    print('Es menor')\n",
        "else:\n",
        "    print('Es mayor')"
      ]
    },
    {
      "cell_type": "code",
      "execution_count": null,
      "metadata": {
        "id": "_rdUF3PltSfX",
        "colab": {
          "base_uri": "https://localhost:8080/"
        },
        "outputId": "04ce8c0f-8c92-4a8e-b5f3-98cc82c4548e"
      },
      "outputs": [
        {
          "output_type": "stream",
          "name": "stdout",
          "text": [
            "Es igual\n"
          ]
        }
      ],
      "source": [
        "#Elif\n",
        "x=3\n",
        "if x<3:\n",
        "    print('Es menor')\n",
        "elif x==3:\n",
        "    print('Es igual')\n",
        "else:\n",
        "    print('Es mayor')"
      ]
    },
    {
      "cell_type": "markdown",
      "metadata": {
        "id": "tihPnSpXtSfX"
      },
      "source": [
        "### Bucles\n",
        "- for\n",
        "- while\n"
      ]
    },
    {
      "cell_type": "code",
      "execution_count": null,
      "metadata": {
        "id": "BFAg2tVNtSfY",
        "colab": {
          "base_uri": "https://localhost:8080/"
        },
        "outputId": "a823b61f-3ee7-4d63-8cd7-4e1e74ea13fb"
      },
      "outputs": [
        {
          "output_type": "stream",
          "name": "stdout",
          "text": [
            "1\n",
            "2\n",
            "3\n",
            "4\n",
            "5\n",
            "6\n"
          ]
        }
      ],
      "source": [
        "# El for en Python\n",
        "lista1 = [1,2,3,4,5,6]\n",
        "\n",
        "for i in lista1:\n",
        "    print(i)"
      ]
    },
    {
      "cell_type": "code",
      "execution_count": null,
      "metadata": {
        "id": "5hZZI67TtSfY"
      },
      "outputs": [],
      "source": [
        "# El for en Python con listas con elementos distintos\n",
        "lista2=['a','b','c','d']\n",
        "for i in lista2:\n",
        "    print(i)"
      ]
    },
    {
      "cell_type": "code",
      "execution_count": null,
      "metadata": {
        "id": "mCeXqNA0tSfY"
      },
      "outputs": [],
      "source": [
        "# Usamos range cuando no tenemos una lista sobre cual iterar\n",
        "range(6)"
      ]
    },
    {
      "cell_type": "code",
      "execution_count": null,
      "metadata": {
        "id": "xMszYi1StSfZ",
        "colab": {
          "base_uri": "https://localhost:8080/"
        },
        "outputId": "beed7905-3bf8-43c8-c82d-465c28ce7877"
      },
      "outputs": [
        {
          "output_type": "stream",
          "name": "stdout",
          "text": [
            "0\n",
            "1\n",
            "2\n",
            "3\n",
            "4\n",
            "5\n"
          ]
        }
      ],
      "source": [
        "for i in range(6):\n",
        "    print(i)"
      ]
    },
    {
      "cell_type": "code",
      "execution_count": null,
      "metadata": {
        "id": "tg9IZJUGtSfZ"
      },
      "outputs": [],
      "source": [
        "# Enumerate permite iterar tanto con el índice como con el valor\n",
        "for ix,val in enumerate(lista2):\n",
        "    print('indice: {}, valor: {}'.format(ix,val))"
      ]
    },
    {
      "cell_type": "code",
      "execution_count": null,
      "metadata": {
        "id": "RiJ7ktZWtSfZ"
      },
      "outputs": [],
      "source": [
        "# Otro bucle, while\n",
        "i=1\n",
        "while i<6:\n",
        "    print(i)\n",
        "    i=i+1"
      ]
    },
    {
      "cell_type": "markdown",
      "metadata": {
        "id": "3LDFZrKMtSfa"
      },
      "source": [
        "### List of comprehension"
      ]
    },
    {
      "cell_type": "code",
      "execution_count": null,
      "metadata": {
        "id": "3UPJT03CtSfa"
      },
      "outputs": [],
      "source": [
        "# Una forma de construir listas\n",
        "lista = []\n",
        "for i in range(6):\n",
        "    lista.append(i**2)\n",
        "\n",
        "print(lista)\n"
      ]
    },
    {
      "cell_type": "code",
      "execution_count": null,
      "metadata": {
        "id": "-0othWOBtSfa"
      },
      "outputs": [],
      "source": [
        "# Otra forma usando listas de comprhension\n",
        "[i**2 for i in range(6)]"
      ]
    },
    {
      "cell_type": "markdown",
      "metadata": {
        "id": "_LM7_9xEtSfa"
      },
      "source": [
        "### Funciones"
      ]
    },
    {
      "cell_type": "code",
      "execution_count": null,
      "metadata": {
        "id": "p9Fb_XqAtSfb"
      },
      "outputs": [],
      "source": [
        "# Definir funciones\n",
        "def my_func(param='default'):\n",
        "    print(param)"
      ]
    },
    {
      "cell_type": "code",
      "execution_count": null,
      "metadata": {
        "id": "5qWUn6NbtSfb",
        "colab": {
          "base_uri": "https://localhost:8080/"
        },
        "outputId": "57005416-a1c9-4ef6-b0b4-5c90197e2f0f"
      },
      "outputs": [
        {
          "output_type": "stream",
          "name": "stdout",
          "text": [
            "default\n"
          ]
        }
      ],
      "source": [
        "my_func()"
      ]
    },
    {
      "cell_type": "code",
      "execution_count": null,
      "metadata": {
        "id": "jalOpWGutSfb",
        "colab": {
          "base_uri": "https://localhost:8080/"
        },
        "outputId": "5926c84a-8e55-434f-e1ab-b05e23fee4fe"
      },
      "outputs": [
        {
          "output_type": "stream",
          "name": "stdout",
          "text": [
            "hola mundo\n"
          ]
        }
      ],
      "source": [
        "my_func('hola mundo')"
      ]
    },
    {
      "cell_type": "code",
      "execution_count": null,
      "metadata": {
        "id": "pXTdM46ctSfc",
        "colab": {
          "base_uri": "https://localhost:8080/"
        },
        "outputId": "a676ef2d-ce0c-45c1-9105-6cb34ca3eb21"
      },
      "outputs": [
        {
          "output_type": "execute_result",
          "data": {
            "text/plain": [
              "<function __main__.my_func(param='default')>"
            ]
          },
          "metadata": {},
          "execution_count": 40
        }
      ],
      "source": [
        "# Sin paréntesis, se indica que es una función, de hecho se podría pasar \n",
        "# como argumento en otra función\n",
        "my_func"
      ]
    },
    {
      "cell_type": "code",
      "execution_count": null,
      "metadata": {
        "id": "j-eayRY2tSfd",
        "colab": {
          "base_uri": "https://localhost:8080/"
        },
        "outputId": "c9c1e4fc-2615-431b-f22b-f69db7652182"
      },
      "outputs": [
        {
          "output_type": "stream",
          "name": "stdout",
          "text": [
            "hi there\n"
          ]
        }
      ],
      "source": [
        "# Se puede especificar el nombre del parámetro desde que se pasan los valores\n",
        "my_func(param='hi there')"
      ]
    },
    {
      "cell_type": "code",
      "execution_count": null,
      "metadata": {
        "id": "Qnw0i8pOtSfd"
      },
      "outputs": [],
      "source": [
        "# Las funciones pueden regresar valores\n",
        "def my_func2(param1,param2):\n",
        "    return param1*param2"
      ]
    },
    {
      "cell_type": "code",
      "execution_count": null,
      "metadata": {
        "id": "1GLihBl9tSfe",
        "colab": {
          "base_uri": "https://localhost:8080/"
        },
        "outputId": "e1f13daf-d8b8-4da2-ded2-856960e457b1"
      },
      "outputs": [
        {
          "output_type": "execute_result",
          "data": {
            "text/plain": [
              "1"
            ]
          },
          "metadata": {},
          "execution_count": 53
        }
      ],
      "source": [
        "my_func2(1,1)"
      ]
    },
    {
      "cell_type": "code",
      "execution_count": null,
      "metadata": {
        "id": "60O6DxQztSfe",
        "colab": {
          "base_uri": "https://localhost:8080/"
        },
        "outputId": "e2a25a5e-29d9-4c7c-d3e1-8bded02e2620"
      },
      "outputs": [
        {
          "output_type": "stream",
          "name": "stdout",
          "text": [
            "12\n"
          ]
        }
      ],
      "source": [
        "# Los resultados de las funciones se pueden almacenar en variables\n",
        "var1 = my_func2(3,4)\n",
        "print(var1)"
      ]
    },
    {
      "cell_type": "code",
      "execution_count": null,
      "metadata": {
        "id": "pFmelDNftSfe"
      },
      "outputs": [],
      "source": [
        "# También pueden regresar tuplas\n",
        "def my_func3(param1,param2):\n",
        "    return param1*param2, param1**2, param2**2"
      ]
    },
    {
      "cell_type": "code",
      "execution_count": null,
      "metadata": {
        "id": "C0xRisH7tSff",
        "colab": {
          "base_uri": "https://localhost:8080/"
        },
        "outputId": "a4ef3214-d885-43c8-dc02-011cd47c7c22"
      },
      "outputs": [
        {
          "output_type": "execute_result",
          "data": {
            "text/plain": [
              "(12, 9, 16)"
            ]
          },
          "metadata": {},
          "execution_count": 47
        }
      ],
      "source": [
        "my_func3(3,4)"
      ]
    },
    {
      "cell_type": "code",
      "execution_count": null,
      "metadata": {
        "id": "n8AIYhratSff"
      },
      "outputs": [],
      "source": [
        "# Las tuplas se pueden almacernar en variables de tipo tupla\n",
        "var2 = my_func3(3,4)\n",
        "type(var2)"
      ]
    },
    {
      "cell_type": "code",
      "execution_count": null,
      "metadata": {
        "id": "OTM2yuYOtSfg",
        "colab": {
          "base_uri": "https://localhost:8080/"
        },
        "outputId": "aac14576-ecfc-4290-d2e3-ddd80836a1e5"
      },
      "outputs": [
        {
          "output_type": "stream",
          "name": "stdout",
          "text": [
            "var1 12, var2 9, var3 16\n"
          ]
        },
        {
          "output_type": "execute_result",
          "data": {
            "text/plain": [
              "int"
            ]
          },
          "metadata": {},
          "execution_count": 49
        }
      ],
      "source": [
        "# Las tuplas se pueden almacenar en variables independientes\n",
        "var1,var2,var3 = my_func3(3,4)\n",
        "print('var1 {}, var2 {}, var3 {}'.format(var1,var2,var3))\n",
        "type(var1)"
      ]
    },
    {
      "cell_type": "code",
      "execution_count": null,
      "metadata": {
        "id": "MlOq-czftSfg"
      },
      "outputs": [],
      "source": [
        "# Deben ser el mismo número de variables que el tamaño de la tupla\n",
        "# de lo contrario hay errores\n",
        "var1,var2 = my_func3(3,4)"
      ]
    },
    {
      "cell_type": "code",
      "execution_count": null,
      "metadata": {
        "id": "6j4Rj4PktSfg"
      },
      "outputs": [],
      "source": [
        "var1,var2,var3,var4 = my_func3(3,4)"
      ]
    },
    {
      "cell_type": "code",
      "execution_count": null,
      "metadata": {
        "id": "xT_eeUMNtSfh"
      },
      "outputs": [],
      "source": [
        "# Si no nos interesa una variable, podemos usar '_', esto provoca que\n",
        "# la variable ya no se guarde en ningun lugar y no se marque error\n",
        "var1,_,var3 = my_func3(3,4)"
      ]
    },
    {
      "cell_type": "markdown",
      "metadata": {
        "id": "19hSnLLVtSfh"
      },
      "source": [
        "### Expresiones lambda"
      ]
    },
    {
      "cell_type": "code",
      "execution_count": null,
      "metadata": {
        "id": "dT330Ac-tSfi",
        "colab": {
          "base_uri": "https://localhost:8080/"
        },
        "outputId": "03daf8ec-21d0-4eb3-acfc-6a32eca51b3f"
      },
      "outputs": [
        {
          "output_type": "execute_result",
          "data": {
            "text/plain": [
              "4"
            ]
          },
          "metadata": {},
          "execution_count": 62
        }
      ],
      "source": [
        "elevar(2)"
      ]
    },
    {
      "cell_type": "code",
      "execution_count": null,
      "metadata": {
        "id": "OQlykZJWtSfi",
        "colab": {
          "base_uri": "https://localhost:8080/"
        },
        "outputId": "b9dbd056-5811-4074-eb6e-f0777f88c0be"
      },
      "outputs": [
        {
          "output_type": "execute_result",
          "data": {
            "text/plain": [
              "<function __main__.<lambda>(var)>"
            ]
          },
          "metadata": {},
          "execution_count": 63
        }
      ],
      "source": [
        "# Una función lambda es una función pequeña anónima.\n",
        "# Puede tomar varios argumentos, pero solo una expresión\n",
        "# lambda arguments : expression\n",
        "lambda var:var**2"
      ]
    },
    {
      "cell_type": "code",
      "execution_count": null,
      "metadata": {
        "id": "W3Ho_a9ntSfi",
        "colab": {
          "base_uri": "https://localhost:8080/"
        },
        "outputId": "6d82ef07-255f-4bae-9cba-d9021f65ee7e"
      },
      "outputs": [
        {
          "output_type": "execute_result",
          "data": {
            "text/plain": [
              "81"
            ]
          },
          "metadata": {},
          "execution_count": 73
        }
      ],
      "source": [
        "# Para ejecturla\n",
        "(lambda var:var**2)(9)"
      ]
    },
    {
      "cell_type": "code",
      "execution_count": null,
      "metadata": {
        "id": "x-4T-39wtSfi",
        "colab": {
          "base_uri": "https://localhost:8080/"
        },
        "outputId": "bc9b0c05-54b3-421f-c5ec-e3b744b5893a"
      },
      "outputs": [
        {
          "output_type": "execute_result",
          "data": {
            "text/plain": [
              "3"
            ]
          },
          "metadata": {},
          "execution_count": 125
        }
      ],
      "source": [
        "# Podemos guardar la función en una variable\n",
        "fl = lambda var:var+1\n",
        "s=fl(2)\n",
        "s"
      ]
    },
    {
      "cell_type": "code",
      "source": [
        "\n"
      ],
      "metadata": {
        "colab": {
          "base_uri": "https://localhost:8080/"
        },
        "id": "OpNxmI1iIyLK",
        "outputId": "2740d79f-a577-4ec8-fe2c-2cfe4f3d0e08"
      },
      "execution_count": null,
      "outputs": [
        {
          "output_type": "execute_result",
          "data": {
            "text/plain": [
              "['hola', 'como', 'estas']"
            ]
          },
          "metadata": {},
          "execution_count": 121
        }
      ]
    },
    {
      "cell_type": "markdown",
      "metadata": {
        "id": "_Rs31MontSfi"
      },
      "source": [
        "(lambda x: x + 1)(2) = lambda 2: 2 + 1\n",
        "\n",
        "                     = 2 + 1\n",
        "                     \n",
        "                     = 3"
      ]
    },
    {
      "cell_type": "code",
      "execution_count": null,
      "metadata": {
        "id": "BiIKcgjjtSfi"
      },
      "outputs": [],
      "source": [
        "#Ejemplo que recibe 3 argumentos\n",
        "x = lambda a, b, c : a + b + c\n",
        "print(x(5, 6, 2)) "
      ]
    },
    {
      "cell_type": "markdown",
      "metadata": {
        "id": "FURXPQ6ztSfj"
      },
      "source": [
        "### map y filter"
      ]
    },
    {
      "cell_type": "code",
      "execution_count": null,
      "metadata": {
        "id": "77gTRch0tSfj"
      },
      "outputs": [],
      "source": [
        "# Definimos una lista\n",
        "lista1 = [x for x in range(6)]"
      ]
    },
    {
      "cell_type": "code",
      "execution_count": null,
      "metadata": {
        "id": "z5p5RQNatSfh"
      },
      "outputs": [],
      "source": [
        "def elevar(param):\n",
        "    return param**2"
      ]
    },
    {
      "cell_type": "code",
      "execution_count": null,
      "metadata": {
        "id": "AuNkg2HatSfj",
        "colab": {
          "base_uri": "https://localhost:8080/"
        },
        "outputId": "70fd04df-fdcc-40c7-d94f-e907828505d6"
      },
      "outputs": [
        {
          "output_type": "execute_result",
          "data": {
            "text/plain": [
              "<map at 0x7f5345470f90>"
            ]
          },
          "metadata": {},
          "execution_count": 70
        }
      ],
      "source": [
        "# La función 'map' aplica una función a cada item de un iterador (list, tuple etc.)\n",
        "#  y regresa un iterador\n",
        "map(elevar,lista1)"
      ]
    },
    {
      "cell_type": "code",
      "execution_count": null,
      "metadata": {
        "id": "kownQGALtSfj",
        "colab": {
          "base_uri": "https://localhost:8080/"
        },
        "outputId": "b873356c-b6c5-4079-fc9d-a90e5f77094a"
      },
      "outputs": [
        {
          "output_type": "execute_result",
          "data": {
            "text/plain": [
              "[0, 1, 4, 9, 16, 25]"
            ]
          },
          "metadata": {},
          "execution_count": 71
        }
      ],
      "source": [
        "list(map(elevar,lista1))"
      ]
    },
    {
      "cell_type": "code",
      "execution_count": null,
      "metadata": {
        "id": "D4Rbw1LmtSfj",
        "colab": {
          "base_uri": "https://localhost:8080/"
        },
        "outputId": "5a577557-040f-416c-d657-040d32ccbe2a"
      },
      "outputs": [
        {
          "output_type": "execute_result",
          "data": {
            "text/plain": [
              "[0, 1, 4, 9, 16, 25]"
            ]
          },
          "metadata": {},
          "execution_count": 72
        }
      ],
      "source": [
        "list(map(lambda var:var**2, lista1))"
      ]
    },
    {
      "cell_type": "code",
      "execution_count": null,
      "metadata": {
        "id": "TnyUew-RtSfj",
        "colab": {
          "base_uri": "https://localhost:8080/"
        },
        "outputId": "09abe2c5-1781-48ea-a9a0-3278bdf8216d"
      },
      "outputs": [
        {
          "output_type": "execute_result",
          "data": {
            "text/plain": [
              "<filter at 0x7f53453a9ed0>"
            ]
          },
          "metadata": {},
          "execution_count": 74
        }
      ],
      "source": [
        "# La función 'filter' extrae elementos de un iterador (list, tuple, etc.)\n",
        "# para los cuales la función regresa True\n",
        "filter(lambda i:i%2 == 0, lista1)"
      ]
    },
    {
      "cell_type": "code",
      "execution_count": null,
      "metadata": {
        "id": "PViaZY_UtSfk",
        "colab": {
          "base_uri": "https://localhost:8080/"
        },
        "outputId": "8a446bb2-4390-47dc-8543-72d6b3054e17"
      },
      "outputs": [
        {
          "output_type": "execute_result",
          "data": {
            "text/plain": [
              "[0, 2, 4]"
            ]
          },
          "metadata": {},
          "execution_count": 127
        }
      ],
      "source": [
        "a=list(filter(lambda i:i%2 == 0, lista1))\n",
        "a"
      ]
    },
    {
      "cell_type": "markdown",
      "metadata": {
        "id": "7L5SyrHytSfk"
      },
      "source": [
        "### Algunos métodos útiles"
      ]
    },
    {
      "cell_type": "code",
      "execution_count": null,
      "metadata": {
        "id": "R8k-L_gMtSfk"
      },
      "outputs": [],
      "source": [
        "# Definimos una cadena\n",
        "cadena = \"hola clase de Minería de Datos\""
      ]
    },
    {
      "cell_type": "code",
      "execution_count": null,
      "metadata": {
        "id": "HxNG91hgtSfk"
      },
      "outputs": [],
      "source": [
        "# Convertimos todos las caracteres a minúsculas\n",
        "cadena.lower()"
      ]
    },
    {
      "cell_type": "code",
      "execution_count": null,
      "metadata": {
        "id": "A-l-W2ywtSfk"
      },
      "outputs": [],
      "source": [
        "# Convertimos todos las caracteres a mayúsculas\n",
        "cadena.upper()"
      ]
    },
    {
      "cell_type": "code",
      "execution_count": null,
      "metadata": {
        "id": "MXHaeb1CtSfk",
        "colab": {
          "base_uri": "https://localhost:8080/"
        },
        "outputId": "6a31ba3e-0478-44bb-db00-d8ce662a3d47"
      },
      "outputs": [
        {
          "output_type": "execute_result",
          "data": {
            "text/plain": [
              "['hola', 'clase', 'de', 'Minería', 'de', 'Datos']"
            ]
          },
          "metadata": {},
          "execution_count": 92
        }
      ],
      "source": [
        "# Separamos la cadena y se regresa en una lista\n",
        "cadena.split()"
      ]
    },
    {
      "cell_type": "code",
      "source": [
        "cadena.split()[0][0]"
      ],
      "metadata": {
        "colab": {
          "base_uri": "https://localhost:8080/",
          "height": 35
        },
        "id": "qptt5AeqD79x",
        "outputId": "c672576a-e5a2-4b5d-b748-4cda2d7e542c"
      },
      "execution_count": null,
      "outputs": [
        {
          "output_type": "execute_result",
          "data": {
            "text/plain": [
              "'h'"
            ],
            "application/vnd.google.colaboratory.intrinsic+json": {
              "type": "string"
            }
          },
          "metadata": {},
          "execution_count": 98
        }
      ]
    },
    {
      "cell_type": "code",
      "execution_count": null,
      "metadata": {
        "id": "BAcouvDOtSfk",
        "colab": {
          "base_uri": "https://localhost:8080/"
        },
        "outputId": "bd00c145-c866-499a-de1e-1b84905aad27"
      },
      "outputs": [
        {
          "output_type": "execute_result",
          "data": {
            "text/plain": [
              "['Hola clase de', ' Minería de datos']"
            ]
          },
          "metadata": {},
          "execution_count": 90
        }
      ],
      "source": [
        "# Se puede indicar cual elemento es el que servirá de separador\n",
        "cadena2 = 'Hola clase de: Minería de datos'\n",
        "cadena2.split(':')"
      ]
    },
    {
      "cell_type": "code",
      "execution_count": null,
      "metadata": {
        "id": "GlhpBAXttSfl",
        "colab": {
          "base_uri": "https://localhost:8080/",
          "height": 35
        },
        "outputId": "ef3c092d-2d6e-4133-b3b3-8727010dada0"
      },
      "outputs": [
        {
          "output_type": "execute_result",
          "data": {
            "text/plain": [
              "' Minería de datos'"
            ],
            "application/vnd.google.colaboratory.intrinsic+json": {
              "type": "string"
            }
          },
          "metadata": {},
          "execution_count": 91
        }
      ],
      "source": [
        "# Acceder a un elemento en específico\n",
        "cadena2.split(':')[1]"
      ]
    },
    {
      "cell_type": "code",
      "execution_count": null,
      "metadata": {
        "id": "urP_vU16tSfl",
        "colab": {
          "base_uri": "https://localhost:8080/"
        },
        "outputId": "f2494eb3-f4e9-48ab-a66b-da504fd029f0"
      },
      "outputs": [
        {
          "output_type": "execute_result",
          "data": {
            "text/plain": [
              "{'keys1': 'value1', 'Keys2': 'value2'}"
            ]
          },
          "metadata": {},
          "execution_count": 107
        }
      ],
      "source": [
        "#Definimos un diccionario\n",
        "diccionario = {'keys1':'value1', 'Keys2':'value2'}\n",
        "diccionario"
      ]
    },
    {
      "cell_type": "code",
      "execution_count": null,
      "metadata": {
        "id": "9KCyaljLtSfl",
        "colab": {
          "base_uri": "https://localhost:8080/"
        },
        "outputId": "bc0ecdde-4493-41ed-90aa-0b34be902594"
      },
      "outputs": [
        {
          "output_type": "execute_result",
          "data": {
            "text/plain": [
              "dict_keys(['keys1', 'Keys2'])"
            ]
          },
          "metadata": {},
          "execution_count": 108
        }
      ],
      "source": [
        "#Accedemos a las llaves\n",
        "diccionario.keys()"
      ]
    },
    {
      "cell_type": "code",
      "execution_count": null,
      "metadata": {
        "id": "I4Q3o_CitSfl",
        "colab": {
          "base_uri": "https://localhost:8080/"
        },
        "outputId": "b3e57291-776b-456e-e70e-5a4000bc20f4"
      },
      "outputs": [
        {
          "output_type": "execute_result",
          "data": {
            "text/plain": [
              "dict_items([('keys1', 'value1'), ('Keys2', 'value2')])"
            ]
          },
          "metadata": {},
          "execution_count": 109
        }
      ],
      "source": [
        "# Accedemos a todos los items (keys, values)\n",
        "diccionario.items()"
      ]
    },
    {
      "cell_type": "code",
      "execution_count": null,
      "metadata": {
        "id": "LHXOXcJXtSfl",
        "colab": {
          "base_uri": "https://localhost:8080/"
        },
        "outputId": "90b2ee2f-1f20-4c64-c0a3-33ed16e56b0d"
      },
      "outputs": [
        {
          "output_type": "execute_result",
          "data": {
            "text/plain": [
              "dict_values(['value1', 'value2'])"
            ]
          },
          "metadata": {},
          "execution_count": 110
        }
      ],
      "source": [
        "#Accedemos a los valores\n",
        "diccionario.values()"
      ]
    },
    {
      "cell_type": "code",
      "execution_count": null,
      "metadata": {
        "id": "OOwYOk_VtSfl",
        "colab": {
          "base_uri": "https://localhost:8080/"
        },
        "outputId": "f5098510-3945-4ac1-8657-301ef2f282e5"
      },
      "outputs": [
        {
          "output_type": "execute_result",
          "data": {
            "text/plain": [
              "[1, 2, 3, 4, 5]"
            ]
          },
          "metadata": {},
          "execution_count": 111
        }
      ],
      "source": [
        "# Definimos una lista\n",
        "lista = [1,2,3,4,5]\n",
        "lista"
      ]
    },
    {
      "cell_type": "code",
      "execution_count": null,
      "metadata": {
        "id": "cpA8qlhLtSfm",
        "colab": {
          "base_uri": "https://localhost:8080/"
        },
        "outputId": "7114ff1f-f7f9-4562-e666-5d954b2902bd"
      },
      "outputs": [
        {
          "output_type": "execute_result",
          "data": {
            "text/plain": [
              "5"
            ]
          },
          "metadata": {},
          "execution_count": 101
        }
      ],
      "source": [
        "# Sacamos elementos de una lista\n",
        "lista.pop()"
      ]
    },
    {
      "cell_type": "code",
      "execution_count": null,
      "metadata": {
        "id": "tAFX1XjxtSfm",
        "colab": {
          "base_uri": "https://localhost:8080/"
        },
        "outputId": "afb42dfc-e3bb-4118-9d28-c9be441805f9"
      },
      "outputs": [
        {
          "output_type": "execute_result",
          "data": {
            "text/plain": [
              "[1, 2, 3, 4]"
            ]
          },
          "metadata": {},
          "execution_count": 102
        }
      ],
      "source": [
        "lista"
      ]
    },
    {
      "cell_type": "code",
      "execution_count": null,
      "metadata": {
        "id": "AFsoTyURtSfm"
      },
      "outputs": [],
      "source": [
        "# Los valores que se sacan se pueden almacernar en una variable\n",
        "v=lista.pop()"
      ]
    },
    {
      "cell_type": "code",
      "execution_count": null,
      "metadata": {
        "id": "6PO0HCuatSfm",
        "colab": {
          "base_uri": "https://localhost:8080/"
        },
        "outputId": "109c6e4a-4687-4ab6-dce0-e902b6ab1cff"
      },
      "outputs": [
        {
          "output_type": "execute_result",
          "data": {
            "text/plain": [
              "True"
            ]
          },
          "metadata": {},
          "execution_count": 104
        }
      ],
      "source": [
        "# Podemos buscar si un elemento esta dentro de una lista\n",
        "3 in lista"
      ]
    },
    {
      "cell_type": "code",
      "execution_count": null,
      "metadata": {
        "id": "XXIb3N5PtSfm",
        "colab": {
          "base_uri": "https://localhost:8080/"
        },
        "outputId": "81e00629-10d8-4688-9c0e-698f2184bc2d"
      },
      "outputs": [
        {
          "output_type": "execute_result",
          "data": {
            "text/plain": [
              "False"
            ]
          },
          "metadata": {},
          "execution_count": 105
        }
      ],
      "source": [
        "7 in lista"
      ]
    },
    {
      "cell_type": "code",
      "execution_count": null,
      "metadata": {
        "id": "x8P6meX3tSfm"
      },
      "outputs": [],
      "source": []
    }
  ],
  "metadata": {
    "kernelspec": {
      "display_name": "Python 3.8.5 ('base')",
      "language": "python",
      "name": "python3"
    },
    "language_info": {
      "codemirror_mode": {
        "name": "ipython",
        "version": 3
      },
      "file_extension": ".py",
      "mimetype": "text/x-python",
      "name": "python",
      "nbconvert_exporter": "python",
      "pygments_lexer": "ipython3",
      "version": "3.8.5"
    },
    "orig_nbformat": 4,
    "vscode": {
      "interpreter": {
        "hash": "454b10af5dccce86783b9f8c85ade064919a97f3a1663be32e61664f18b345a3"
      }
    },
    "colab": {
      "provenance": [],
      "include_colab_link": true
    }
  },
  "nbformat": 4,
  "nbformat_minor": 0
}